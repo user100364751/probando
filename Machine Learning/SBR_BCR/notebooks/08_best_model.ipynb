{
 "cells": [
  {
   "cell_type": "markdown",
   "metadata": {},
   "source": [
    "__11/12/2020__\n",
    "\n",
    "Beatriz Cárdaba Rico\n",
    "\n",
    "Sara Bengoechea Rodríguez"
   ]
  },
  {
   "cell_type": "markdown",
   "metadata": {},
   "source": [
    "# Selección del modelo ganador\n",
    "\n",
    "En este notebook se van a comparar las diferentes matrcies de confusión y las curvas ROC de todos los modelos que se han descrito para este estudio. Se tendrán en cuenta todas estas medidas y valores para tomar la decisión de cuál es el modelo elegido, teniendo en cuenta tambuién el conocimiento de negocio.\n",
    "\n",
    "\n",
    "- Libraries Import\n",
    "- Data Import\n",
    "- Models Import\n",
    "- Confusion Matrix\n",
    "- Best Model\n",
    "- Hyperparamtres\n",
    "- Conclussion\n",
    "- References\n",
    "    \n",
    "\n",
    "__Importamos todas las librerías que se van a utilizar en este notebook:__"
   ]
  },
  {
   "cell_type": "code",
   "execution_count": 1,
   "metadata": {},
   "outputs": [],
   "source": [
    "import numpy as np\n",
    "import pandas as pd\n",
    "import matplotlib\n",
    "from matplotlib import pyplot as plt # plots\n",
    "import seaborn as sns # plots\n",
    "from sklearn.ensemble import IsolationForest\n",
    "from sklearn import preprocessing \n",
    "from sklearn.linear_model import Lasso, LassoCV\n",
    "import pickle\n",
    "from sklearn.preprocessing import MinMaxScaler\n",
    "from sklearn.model_selection import train_test_split\n",
    "from imblearn.over_sampling import SMOTE\n",
    "from sklearn.linear_model import LogisticRegression # Log Regression\n",
    "from sklearn.metrics import classification_report, confusion_matrix \n",
    "\n",
    "from sklearn import datasets, metrics, model_selection\n",
    "from sklearn.model_selection import GridSearchCV\n",
    "from sklearn.svm import SVC # SVM\n",
    "from sklearn import svm\n",
    "from sklearn.ensemble import RandomForestClassifier \n",
    "import xgboost as xgb\n",
    "from sklearn.model_selection import GridSearchCV\n",
    "import scikitplot as skplt"
   ]
  },
  {
   "cell_type": "markdown",
   "metadata": {},
   "source": [
    "__Importamos los datos__"
   ]
  },
  {
   "cell_type": "code",
   "execution_count": 2,
   "metadata": {},
   "outputs": [
    {
     "data": {
      "text/html": [
       "<div>\n",
       "<style scoped>\n",
       "    .dataframe tbody tr th:only-of-type {\n",
       "        vertical-align: middle;\n",
       "    }\n",
       "\n",
       "    .dataframe tbody tr th {\n",
       "        vertical-align: top;\n",
       "    }\n",
       "\n",
       "    .dataframe thead th {\n",
       "        text-align: right;\n",
       "    }\n",
       "</style>\n",
       "<table border=\"1\" class=\"dataframe\">\n",
       "  <thead>\n",
       "    <tr style=\"text-align: right;\">\n",
       "      <th></th>\n",
       "      <th>Unnamed: 0</th>\n",
       "      <th>num_rev_accts</th>\n",
       "      <th>open_acc_6m</th>\n",
       "      <th>num_bc_tl</th>\n",
       "      <th>home_ownership_ANY</th>\n",
       "      <th>tot_hi_cred_lim</th>\n",
       "      <th>home_ownership_MORTGAGE</th>\n",
       "      <th>home_ownership_OWN</th>\n",
       "      <th>purpose_leisure</th>\n",
       "      <th>num_actv_bc_tl</th>\n",
       "      <th>...</th>\n",
       "      <th>funded_amnt</th>\n",
       "      <th>pct_tl_nvr_dlq</th>\n",
       "      <th>inq_last_6mths</th>\n",
       "      <th>loan_amnt</th>\n",
       "      <th>bc_open_to_buy</th>\n",
       "      <th>num_tl_30dpd</th>\n",
       "      <th>num_op_rev_tl</th>\n",
       "      <th>term_ 60 months</th>\n",
       "      <th>open_acc</th>\n",
       "      <th>total_rev_hi_lim</th>\n",
       "    </tr>\n",
       "  </thead>\n",
       "  <tbody>\n",
       "    <tr>\n",
       "      <th>0</th>\n",
       "      <td>0</td>\n",
       "      <td>0.100000</td>\n",
       "      <td>0.0</td>\n",
       "      <td>0.114286</td>\n",
       "      <td>0.0</td>\n",
       "      <td>0.019016</td>\n",
       "      <td>1.0</td>\n",
       "      <td>0.0</td>\n",
       "      <td>0.0</td>\n",
       "      <td>0.100000</td>\n",
       "      <td>...</td>\n",
       "      <td>0.333333</td>\n",
       "      <td>1.000000</td>\n",
       "      <td>0.000000</td>\n",
       "      <td>0.333333</td>\n",
       "      <td>0.000491</td>\n",
       "      <td>0.0</td>\n",
       "      <td>0.084337</td>\n",
       "      <td>0.0</td>\n",
       "      <td>0.100000</td>\n",
       "      <td>0.00234</td>\n",
       "    </tr>\n",
       "    <tr>\n",
       "      <th>1</th>\n",
       "      <td>1</td>\n",
       "      <td>0.027273</td>\n",
       "      <td>0.0</td>\n",
       "      <td>0.028571</td>\n",
       "      <td>0.0</td>\n",
       "      <td>0.006348</td>\n",
       "      <td>0.0</td>\n",
       "      <td>0.0</td>\n",
       "      <td>0.0</td>\n",
       "      <td>0.066667</td>\n",
       "      <td>...</td>\n",
       "      <td>0.275000</td>\n",
       "      <td>0.925140</td>\n",
       "      <td>0.166667</td>\n",
       "      <td>0.275000</td>\n",
       "      <td>0.006551</td>\n",
       "      <td>0.0</td>\n",
       "      <td>0.060241</td>\n",
       "      <td>0.0</td>\n",
       "      <td>0.144444</td>\n",
       "      <td>0.00122</td>\n",
       "    </tr>\n",
       "    <tr>\n",
       "      <th>2</th>\n",
       "      <td>2</td>\n",
       "      <td>0.072727</td>\n",
       "      <td>0.0</td>\n",
       "      <td>0.071429</td>\n",
       "      <td>0.0</td>\n",
       "      <td>0.033903</td>\n",
       "      <td>1.0</td>\n",
       "      <td>0.0</td>\n",
       "      <td>0.0</td>\n",
       "      <td>0.133333</td>\n",
       "      <td>...</td>\n",
       "      <td>0.179487</td>\n",
       "      <td>1.000000</td>\n",
       "      <td>0.000000</td>\n",
       "      <td>0.179487</td>\n",
       "      <td>0.024284</td>\n",
       "      <td>0.0</td>\n",
       "      <td>0.060241</td>\n",
       "      <td>0.0</td>\n",
       "      <td>0.100000</td>\n",
       "      <td>0.00283</td>\n",
       "    </tr>\n",
       "    <tr>\n",
       "      <th>3</th>\n",
       "      <td>3</td>\n",
       "      <td>0.127273</td>\n",
       "      <td>0.0</td>\n",
       "      <td>0.114286</td>\n",
       "      <td>0.0</td>\n",
       "      <td>0.005288</td>\n",
       "      <td>0.0</td>\n",
       "      <td>0.0</td>\n",
       "      <td>0.0</td>\n",
       "      <td>0.100000</td>\n",
       "      <td>...</td>\n",
       "      <td>0.102564</td>\n",
       "      <td>0.731844</td>\n",
       "      <td>0.000000</td>\n",
       "      <td>0.102564</td>\n",
       "      <td>0.003751</td>\n",
       "      <td>0.0</td>\n",
       "      <td>0.060241</td>\n",
       "      <td>0.0</td>\n",
       "      <td>0.111111</td>\n",
       "      <td>0.00073</td>\n",
       "    </tr>\n",
       "    <tr>\n",
       "      <th>4</th>\n",
       "      <td>4</td>\n",
       "      <td>0.318182</td>\n",
       "      <td>0.0</td>\n",
       "      <td>0.257143</td>\n",
       "      <td>0.0</td>\n",
       "      <td>0.008973</td>\n",
       "      <td>1.0</td>\n",
       "      <td>0.0</td>\n",
       "      <td>0.0</td>\n",
       "      <td>0.100000</td>\n",
       "      <td>...</td>\n",
       "      <td>0.102564</td>\n",
       "      <td>1.000000</td>\n",
       "      <td>0.166667</td>\n",
       "      <td>0.102564</td>\n",
       "      <td>0.002182</td>\n",
       "      <td>0.0</td>\n",
       "      <td>0.072289</td>\n",
       "      <td>0.0</td>\n",
       "      <td>0.088889</td>\n",
       "      <td>0.00169</td>\n",
       "    </tr>\n",
       "  </tbody>\n",
       "</table>\n",
       "<p>5 rows × 46 columns</p>\n",
       "</div>"
      ],
      "text/plain": [
       "   Unnamed: 0  num_rev_accts  open_acc_6m  num_bc_tl  home_ownership_ANY  \\\n",
       "0           0       0.100000          0.0   0.114286                 0.0   \n",
       "1           1       0.027273          0.0   0.028571                 0.0   \n",
       "2           2       0.072727          0.0   0.071429                 0.0   \n",
       "3           3       0.127273          0.0   0.114286                 0.0   \n",
       "4           4       0.318182          0.0   0.257143                 0.0   \n",
       "\n",
       "   tot_hi_cred_lim  home_ownership_MORTGAGE  home_ownership_OWN  \\\n",
       "0         0.019016                      1.0                 0.0   \n",
       "1         0.006348                      0.0                 0.0   \n",
       "2         0.033903                      1.0                 0.0   \n",
       "3         0.005288                      0.0                 0.0   \n",
       "4         0.008973                      1.0                 0.0   \n",
       "\n",
       "   purpose_leisure  num_actv_bc_tl  ...  funded_amnt  pct_tl_nvr_dlq  \\\n",
       "0              0.0        0.100000  ...     0.333333        1.000000   \n",
       "1              0.0        0.066667  ...     0.275000        0.925140   \n",
       "2              0.0        0.133333  ...     0.179487        1.000000   \n",
       "3              0.0        0.100000  ...     0.102564        0.731844   \n",
       "4              0.0        0.100000  ...     0.102564        1.000000   \n",
       "\n",
       "   inq_last_6mths  loan_amnt  bc_open_to_buy  num_tl_30dpd  num_op_rev_tl  \\\n",
       "0        0.000000   0.333333        0.000491           0.0       0.084337   \n",
       "1        0.166667   0.275000        0.006551           0.0       0.060241   \n",
       "2        0.000000   0.179487        0.024284           0.0       0.060241   \n",
       "3        0.000000   0.102564        0.003751           0.0       0.060241   \n",
       "4        0.166667   0.102564        0.002182           0.0       0.072289   \n",
       "\n",
       "   term_ 60 months  open_acc  total_rev_hi_lim  \n",
       "0              0.0  0.100000           0.00234  \n",
       "1              0.0  0.144444           0.00122  \n",
       "2              0.0  0.100000           0.00283  \n",
       "3              0.0  0.111111           0.00073  \n",
       "4              0.0  0.088889           0.00169  \n",
       "\n",
       "[5 rows x 46 columns]"
      ]
     },
     "execution_count": 2,
     "metadata": {},
     "output_type": "execute_result"
    }
   ],
   "source": [
    "X_train = pd.read_csv('../data/03_processed/x_train.csv')\n",
    "X_train.head()"
   ]
  },
  {
   "cell_type": "code",
   "execution_count": 3,
   "metadata": {},
   "outputs": [],
   "source": [
    "del X_train['Unnamed: 0'] # eliminamos la primera columna que se ha añadido"
   ]
  },
  {
   "cell_type": "code",
   "execution_count": 4,
   "metadata": {},
   "outputs": [
    {
     "data": {
      "text/html": [
       "<div>\n",
       "<style scoped>\n",
       "    .dataframe tbody tr th:only-of-type {\n",
       "        vertical-align: middle;\n",
       "    }\n",
       "\n",
       "    .dataframe tbody tr th {\n",
       "        vertical-align: top;\n",
       "    }\n",
       "\n",
       "    .dataframe thead th {\n",
       "        text-align: right;\n",
       "    }\n",
       "</style>\n",
       "<table border=\"1\" class=\"dataframe\">\n",
       "  <thead>\n",
       "    <tr style=\"text-align: right;\">\n",
       "      <th></th>\n",
       "      <th>Unnamed: 0</th>\n",
       "      <th>num_rev_accts</th>\n",
       "      <th>open_acc_6m</th>\n",
       "      <th>num_bc_tl</th>\n",
       "      <th>home_ownership_ANY</th>\n",
       "      <th>tot_hi_cred_lim</th>\n",
       "      <th>home_ownership_MORTGAGE</th>\n",
       "      <th>home_ownership_OWN</th>\n",
       "      <th>purpose_leisure</th>\n",
       "      <th>num_actv_bc_tl</th>\n",
       "      <th>...</th>\n",
       "      <th>funded_amnt</th>\n",
       "      <th>pct_tl_nvr_dlq</th>\n",
       "      <th>inq_last_6mths</th>\n",
       "      <th>loan_amnt</th>\n",
       "      <th>bc_open_to_buy</th>\n",
       "      <th>num_tl_30dpd</th>\n",
       "      <th>num_op_rev_tl</th>\n",
       "      <th>term_ 60 months</th>\n",
       "      <th>open_acc</th>\n",
       "      <th>total_rev_hi_lim</th>\n",
       "    </tr>\n",
       "  </thead>\n",
       "  <tbody>\n",
       "    <tr>\n",
       "      <th>0</th>\n",
       "      <td>137093</td>\n",
       "      <td>0.118182</td>\n",
       "      <td>0.0</td>\n",
       "      <td>0.100000</td>\n",
       "      <td>0.0</td>\n",
       "      <td>0.005378</td>\n",
       "      <td>0.0</td>\n",
       "      <td>0.0</td>\n",
       "      <td>0.0</td>\n",
       "      <td>0.066667</td>\n",
       "      <td>...</td>\n",
       "      <td>0.333333</td>\n",
       "      <td>0.840223</td>\n",
       "      <td>0.000000</td>\n",
       "      <td>0.333333</td>\n",
       "      <td>0.007237</td>\n",
       "      <td>0.0</td>\n",
       "      <td>0.060241</td>\n",
       "      <td>0.0</td>\n",
       "      <td>0.077778</td>\n",
       "      <td>0.00255</td>\n",
       "    </tr>\n",
       "    <tr>\n",
       "      <th>1</th>\n",
       "      <td>34771</td>\n",
       "      <td>0.145455</td>\n",
       "      <td>0.0</td>\n",
       "      <td>0.085714</td>\n",
       "      <td>0.0</td>\n",
       "      <td>0.004796</td>\n",
       "      <td>0.0</td>\n",
       "      <td>1.0</td>\n",
       "      <td>0.0</td>\n",
       "      <td>0.100000</td>\n",
       "      <td>...</td>\n",
       "      <td>0.292308</td>\n",
       "      <td>0.931844</td>\n",
       "      <td>0.166667</td>\n",
       "      <td>0.292308</td>\n",
       "      <td>0.000368</td>\n",
       "      <td>0.0</td>\n",
       "      <td>0.096386</td>\n",
       "      <td>0.0</td>\n",
       "      <td>0.100000</td>\n",
       "      <td>0.00236</td>\n",
       "    </tr>\n",
       "    <tr>\n",
       "      <th>2</th>\n",
       "      <td>71711</td>\n",
       "      <td>0.090909</td>\n",
       "      <td>0.0</td>\n",
       "      <td>0.100000</td>\n",
       "      <td>0.0</td>\n",
       "      <td>0.005021</td>\n",
       "      <td>1.0</td>\n",
       "      <td>0.0</td>\n",
       "      <td>0.0</td>\n",
       "      <td>0.200000</td>\n",
       "      <td>...</td>\n",
       "      <td>0.282051</td>\n",
       "      <td>1.000000</td>\n",
       "      <td>0.000000</td>\n",
       "      <td>0.282051</td>\n",
       "      <td>0.002116</td>\n",
       "      <td>0.0</td>\n",
       "      <td>0.120482</td>\n",
       "      <td>0.0</td>\n",
       "      <td>0.133333</td>\n",
       "      <td>0.00163</td>\n",
       "    </tr>\n",
       "    <tr>\n",
       "      <th>3</th>\n",
       "      <td>316353</td>\n",
       "      <td>0.100000</td>\n",
       "      <td>0.0</td>\n",
       "      <td>0.071429</td>\n",
       "      <td>0.0</td>\n",
       "      <td>0.034286</td>\n",
       "      <td>1.0</td>\n",
       "      <td>0.0</td>\n",
       "      <td>1.0</td>\n",
       "      <td>0.033333</td>\n",
       "      <td>...</td>\n",
       "      <td>0.179487</td>\n",
       "      <td>0.805587</td>\n",
       "      <td>0.000000</td>\n",
       "      <td>0.179487</td>\n",
       "      <td>0.000670</td>\n",
       "      <td>0.0</td>\n",
       "      <td>0.048193</td>\n",
       "      <td>0.0</td>\n",
       "      <td>0.088889</td>\n",
       "      <td>0.00274</td>\n",
       "    </tr>\n",
       "    <tr>\n",
       "      <th>4</th>\n",
       "      <td>71271</td>\n",
       "      <td>0.181818</td>\n",
       "      <td>0.0</td>\n",
       "      <td>0.157143</td>\n",
       "      <td>0.0</td>\n",
       "      <td>0.021202</td>\n",
       "      <td>1.0</td>\n",
       "      <td>0.0</td>\n",
       "      <td>0.0</td>\n",
       "      <td>0.133333</td>\n",
       "      <td>...</td>\n",
       "      <td>0.435897</td>\n",
       "      <td>1.000000</td>\n",
       "      <td>0.000000</td>\n",
       "      <td>0.435897</td>\n",
       "      <td>0.037936</td>\n",
       "      <td>0.0</td>\n",
       "      <td>0.120482</td>\n",
       "      <td>1.0</td>\n",
       "      <td>0.166667</td>\n",
       "      <td>0.00477</td>\n",
       "    </tr>\n",
       "  </tbody>\n",
       "</table>\n",
       "<p>5 rows × 46 columns</p>\n",
       "</div>"
      ],
      "text/plain": [
       "   Unnamed: 0  num_rev_accts  open_acc_6m  num_bc_tl  home_ownership_ANY  \\\n",
       "0      137093       0.118182          0.0   0.100000                 0.0   \n",
       "1       34771       0.145455          0.0   0.085714                 0.0   \n",
       "2       71711       0.090909          0.0   0.100000                 0.0   \n",
       "3      316353       0.100000          0.0   0.071429                 0.0   \n",
       "4       71271       0.181818          0.0   0.157143                 0.0   \n",
       "\n",
       "   tot_hi_cred_lim  home_ownership_MORTGAGE  home_ownership_OWN  \\\n",
       "0         0.005378                      0.0                 0.0   \n",
       "1         0.004796                      0.0                 1.0   \n",
       "2         0.005021                      1.0                 0.0   \n",
       "3         0.034286                      1.0                 0.0   \n",
       "4         0.021202                      1.0                 0.0   \n",
       "\n",
       "   purpose_leisure  num_actv_bc_tl  ...  funded_amnt  pct_tl_nvr_dlq  \\\n",
       "0              0.0        0.066667  ...     0.333333        0.840223   \n",
       "1              0.0        0.100000  ...     0.292308        0.931844   \n",
       "2              0.0        0.200000  ...     0.282051        1.000000   \n",
       "3              1.0        0.033333  ...     0.179487        0.805587   \n",
       "4              0.0        0.133333  ...     0.435897        1.000000   \n",
       "\n",
       "   inq_last_6mths  loan_amnt  bc_open_to_buy  num_tl_30dpd  num_op_rev_tl  \\\n",
       "0        0.000000   0.333333        0.007237           0.0       0.060241   \n",
       "1        0.166667   0.292308        0.000368           0.0       0.096386   \n",
       "2        0.000000   0.282051        0.002116           0.0       0.120482   \n",
       "3        0.000000   0.179487        0.000670           0.0       0.048193   \n",
       "4        0.000000   0.435897        0.037936           0.0       0.120482   \n",
       "\n",
       "   term_ 60 months  open_acc  total_rev_hi_lim  \n",
       "0              0.0  0.077778           0.00255  \n",
       "1              0.0  0.100000           0.00236  \n",
       "2              0.0  0.133333           0.00163  \n",
       "3              0.0  0.088889           0.00274  \n",
       "4              1.0  0.166667           0.00477  \n",
       "\n",
       "[5 rows x 46 columns]"
      ]
     },
     "execution_count": 4,
     "metadata": {},
     "output_type": "execute_result"
    }
   ],
   "source": [
    "X_test = pd.read_csv('../data/03_processed/x_test.csv')\n",
    "X_test.head()"
   ]
  },
  {
   "cell_type": "code",
   "execution_count": 5,
   "metadata": {},
   "outputs": [],
   "source": [
    "del X_test['Unnamed: 0'] # eliminamos la primera columna que se ha añadido"
   ]
  },
  {
   "cell_type": "code",
   "execution_count": 6,
   "metadata": {},
   "outputs": [],
   "source": [
    "Y_test = pd.read_csv('../data/03_processed/y_test.csv')"
   ]
  },
  {
   "cell_type": "code",
   "execution_count": 7,
   "metadata": {},
   "outputs": [],
   "source": [
    "del Y_test['Unnamed: 0'] # eliminamos la primera columna que se ha añadido"
   ]
  },
  {
   "cell_type": "code",
   "execution_count": 8,
   "metadata": {},
   "outputs": [],
   "source": [
    "Y_train = pd.read_csv('../data/03_processed/Y_train.csv')"
   ]
  },
  {
   "cell_type": "code",
   "execution_count": 9,
   "metadata": {},
   "outputs": [],
   "source": [
    "del Y_train['Unnamed: 0'] # eliminamos la primera columna que se ha añadido"
   ]
  },
  {
   "cell_type": "markdown",
   "metadata": {},
   "source": [
    "__Importamos los modelos:__\n",
    "\n",
    "Importamos los modelos que se han guardado como un objeto en pickle desde la ruta seleccionada."
   ]
  },
  {
   "cell_type": "code",
   "execution_count": 10,
   "metadata": {},
   "outputs": [],
   "source": [
    "null =  pd.read_pickle('../data/04_models/null_model.pkl')"
   ]
  },
  {
   "cell_type": "code",
   "execution_count": 11,
   "metadata": {},
   "outputs": [],
   "source": [
    "logit =  pd.read_pickle('../data/04_models/logit_model.pkl')"
   ]
  },
  {
   "cell_type": "code",
   "execution_count": 40,
   "metadata": {},
   "outputs": [],
   "source": [
    "svm =  pd.read_pickle('../data/04_models/svm_model.pkl')"
   ]
  },
  {
   "cell_type": "code",
   "execution_count": 41,
   "metadata": {},
   "outputs": [],
   "source": [
    "random_forest =  pd.read_pickle('../data/04_models/random_forest.pkl')"
   ]
  },
  {
   "cell_type": "code",
   "execution_count": 42,
   "metadata": {},
   "outputs": [],
   "source": [
    "xg_boost =  pd.read_pickle('../data/04_models/xg_boost.pkl')"
   ]
  },
  {
   "cell_type": "markdown",
   "metadata": {},
   "source": [
    "### Matriz de Confusión:\n",
    "La matriz de confusión de un problema de clase n es una matríz nxnen la que las filas se nombran según las clases reales y las columnas, según las clases previstas por el modelo. Sirve para mostrar de forma explícita cuándo una clase es confundida con otra\n",
    "\n",
    "__Accuracy:__ Es el porcentaje total de elementos clasificados correctamente."
   ]
  },
  {
   "cell_type": "code",
   "execution_count": 12,
   "metadata": {},
   "outputs": [],
   "source": [
    "def conf_matrix_norm(Y_test, Y_pred): # va a comparar los resultados de las predicciones de la variable target vs la real del testset\n",
    "    cnf_matrix_tra = confusion_matrix(Y_test, Y_pred,  normalize='true')\n",
    "    conf_plot = sns.heatmap(cnf_matrix_tra, annot=True, cmap='Blues', fmt='g')\n",
    "    bottom, top = conf_plot.get_ylim()\n",
    "    conf_plot.set_ylim(bottom + 0.5, top - 0.5)\n",
    "    conf_plot.set_title(\"Confusion matrix, with normalization\")\n",
    "    conf_plot.set_ylabel('True Label')\n",
    "    conf_plot.set_xlabel('Predicted Label');"
   ]
  },
  {
   "cell_type": "markdown",
   "metadata": {},
   "source": [
    "__Modelo Nulo:__"
   ]
  },
  {
   "cell_type": "code",
   "execution_count": 13,
   "metadata": {},
   "outputs": [
    {
     "name": "stderr",
     "output_type": "stream",
     "text": [
      "/opt/anaconda3/lib/python3.8/site-packages/sklearn/metrics/_classification.py:1221: UndefinedMetricWarning: Precision and F-score are ill-defined and being set to 0.0 in labels with no predicted samples. Use `zero_division` parameter to control this behavior.\n",
      "  _warn_prf(average, modifier, msg_start, len(result))\n"
     ]
    },
    {
     "name": "stdout",
     "output_type": "stream",
     "text": [
      "              precision    recall  f1-score   support\n",
      "\n",
      "         0.0       0.75      1.00      0.86     69140\n",
      "         1.0       0.00      0.00      0.00     23299\n",
      "\n",
      "    accuracy                           0.75     92439\n",
      "   macro avg       0.37      0.50      0.43     92439\n",
      "weighted avg       0.56      0.75      0.64     92439\n",
      "\n",
      "CPU times: user 410 ms, sys: 16.6 ms, total: 427 ms\n",
      "Wall time: 440 ms\n"
     ]
    },
    {
     "data": {
      "image/png": "[encoded data removed]",
      "text/plain": [
       "<Figure size 432x288 with 2 Axes>"
      ]
     },
     "metadata": {
      "needs_background": "light"
     },
     "output_type": "display_data"
    }
   ],
   "source": [
    "%%time\n",
    "pred_null = null.predict(X_test)\n",
    "conf_matrix_norm(Y_test, pred_null)\n",
    "print(classification_report(Y_test,pred_null))"
   ]
  },
  {
   "cell_type": "markdown",
   "metadata": {},
   "source": [
    "__Modelo Logit:__"
   ]
  },
  {
   "cell_type": "code",
   "execution_count": 15,
   "metadata": {},
   "outputs": [
    {
     "name": "stdout",
     "output_type": "stream",
     "text": [
      "              precision    recall  f1-score   support\n",
      "\n",
      "         0.0       0.96      0.90      0.93     69140\n",
      "         1.0       0.74      0.88      0.81     23299\n",
      "\n",
      "    accuracy                           0.89     92439\n",
      "   macro avg       0.85      0.89      0.87     92439\n",
      "weighted avg       0.90      0.89      0.90     92439\n",
      "\n",
      "CPU times: user 617 ms, sys: 15 ms, total: 632 ms\n",
      "Wall time: 477 ms\n"
     ]
    },
    {
     "data": {
      "image/png": "[encoded data removed]",
      "text/plain": [
       "<Figure size 432x288 with 2 Axes>"
      ]
     },
     "metadata": {
      "needs_background": "light"
     },
     "output_type": "display_data"
    }
   ],
   "source": [
    "%%time\n",
    "pred_logit = logit.predict(X_test)\n",
    "conf_matrix_norm(Y_test, pred_logit)\n",
    "print(classification_report(Y_test,pred_logit))"
   ]
  },
  {
   "cell_type": "markdown",
   "metadata": {},
   "source": [
    "__Modelo SVM:__"
   ]
  },
  {
   "cell_type": "code",
   "execution_count": 46,
   "metadata": {},
   "outputs": [
    {
     "name": "stdout",
     "output_type": "stream",
     "text": [
      "              precision    recall  f1-score   support\n",
      "\n",
      "         0.0       0.93      0.93      0.93     69140\n",
      "         1.0       0.81      0.80      0.80     23299\n",
      "\n",
      "    accuracy                           0.90     92439\n",
      "   macro avg       0.87      0.87      0.87     92439\n",
      "weighted avg       0.90      0.90      0.90     92439\n",
      "\n",
      "Wall time: 6min 44s\n"
     ]
    },
    {
     "data": {
      "image/png": "[encoded data removed]",
      "text/plain": [
       "<Figure size 432x288 with 2 Axes>"
      ]
     },
     "metadata": {
      "needs_background": "light"
     },
     "output_type": "display_data"
    }
   ],
   "source": [
    "%%time\n",
    "pred_svm= svm.predict(X_test)\n",
    "conf_matrix_norm(Y_test, pred_svm)\n",
    "print(classification_report(Y_test,pred_svm))"
   ]
  },
  {
   "cell_type": "markdown",
   "metadata": {},
   "source": [
    "__Modelo Random Forest:__"
   ]
  },
  {
   "cell_type": "code",
   "execution_count": 47,
   "metadata": {},
   "outputs": [
    {
     "name": "stdout",
     "output_type": "stream",
     "text": [
      "              precision    recall  f1-score   support\n",
      "\n",
      "         0.0       0.94      0.93      0.93     69140\n",
      "         1.0       0.80      0.83      0.81     23299\n",
      "\n",
      "    accuracy                           0.90     92439\n",
      "   macro avg       0.87      0.88      0.87     92439\n",
      "weighted avg       0.90      0.90      0.90     92439\n",
      "\n",
      "Wall time: 9.02 s\n"
     ]
    },
    {
     "data": {
      "image/png": "[encoded data removed]",
      "text/plain": [
       "<Figure size 432x288 with 2 Axes>"
      ]
     },
     "metadata": {
      "needs_background": "light"
     },
     "output_type": "display_data"
    }
   ],
   "source": [
    "%%time\n",
    "pred_rf= random_forest.predict(X_test)\n",
    "conf_matrix_norm(Y_test, pred_rf)\n",
    "print(classification_report(Y_test,pred_rf))"
   ]
  },
  {
   "cell_type": "markdown",
   "metadata": {},
   "source": [
    "__Modelo XG BOOST:__"
   ]
  },
  {
   "cell_type": "code",
   "execution_count": 48,
   "metadata": {},
   "outputs": [
    {
     "name": "stdout",
     "output_type": "stream",
     "text": [
      "              precision    recall  f1-score   support\n",
      "\n",
      "         0.0       0.94      0.93      0.93     69140\n",
      "         1.0       0.80      0.81      0.81     23299\n",
      "\n",
      "    accuracy                           0.90     92439\n",
      "   macro avg       0.87      0.87      0.87     92439\n",
      "weighted avg       0.90      0.90      0.90     92439\n",
      "\n",
      "Wall time: 1.14 s\n"
     ]
    },
    {
     "data": {
      "image/png": "[encoded data removed]",
      "text/plain": [
       "<Figure size 432x288 with 2 Axes>"
      ]
     },
     "metadata": {
      "needs_background": "light"
     },
     "output_type": "display_data"
    }
   ],
   "source": [
    "%%time\n",
    "pred_xgb= xg_boost.predict(X_test)\n",
    "conf_matrix_norm(Y_test, pred_xgb)\n",
    "print(classification_report(Y_test,pred_xgb))"
   ]
  },
  {
   "cell_type": "markdown",
   "metadata": {},
   "source": [
    "### Curva ROC:\n",
    "\n",
    "Una curva ROC (curva de característica operativa del recepto) es un gráfico que muestra el rendimiento de un modelo de clasificación en todos los umbrales de clasificación. Esta curva representa dos parámetros:\n",
    " - Tasa de verdaderos positivos\n",
    " - Tasa de falsos positivos\n",
    " \n",
    "__El AUC__ proporciona una medición agregada del rendimiento en todos los umbrales de clasificación posibles. Una forma de interpretar el AUC es como la probabilidad de que el modelo clasifique un ejemplo positivo aleatorio más alto que un ejemplo negativo aleatorio."
   ]
  },
  {
   "cell_type": "code",
   "execution_count": 49,
   "metadata": {},
   "outputs": [
    {
     "data": {
      "image/png": "[encoded data removed]",
      "text/plain": [
       "<Figure size 432x288 with 1 Axes>"
      ]
     },
     "metadata": {
      "needs_background": "light"
     },
     "output_type": "display_data"
    }
   ],
   "source": [
    "null_disp = metrics.plot_roc_curve(null, X_test, Y_test) # ROC null_model\n",
    "logit_disp = metrics.plot_roc_curve(logit, X_test, Y_test ,ax=null_disp.ax_) # ROC logit_model mismos ejes que el roc null_model\n",
    "svm_disp = metrics.plot_roc_curve(svm, X_test, Y_test, ax=null_disp.ax_) # ROC svm mismos ejes que el roc null_model\n",
    "rf_disp = metrics.plot_roc_curve(random_forest, X_test, Y_test, ax=null_disp.ax_) # ROC random_forest sames axes roc null_model\n",
    "xgb_disp = metrics.plot_roc_curve(xg_boost, X_test, Y_test, ax=null_disp.ax_) # ROC XG_BOOST mismos ejes que el roc null_model\n",
    "null_disp.figure_.suptitle(\"ROC curve comparison\") # título\n",
    "plt.show()"
   ]
  },
  {
   "cell_type": "markdown",
   "metadata": {},
   "source": [
    "# MEJOR MODELO\n",
    "\n",
    "Para seleccionar el mejor modelo hemos tenido en cuenta diferentes criterios. \n",
    "En primer lugar, hemos considerado el porcentanje de accuracy de los modelos. En los modelos Logit, SVM, Random Forest y XG BOOST, estas cifras son muy parecidas variando en todos los modelos menos del 5%. Por ello, vamos a atender a los valores de falsos positivos y falsos negativos. Para analizar estos datos es muy importante tener en cuenta el conocimiento de negocio. \n",
    "Hay que tener muy en cuenta el coste de los errores.\n",
    "En este caso, según hemos estudiado, las empresas encargadas de dar créditos tienen como objetivo reducir el número de impagos, por eso, en estos modelos querrán reducir al máximo el valor de los predecidos como 'fully_paid' pero que en realidad pertenecen a una categoría de impago. Atendiendo a este criterio los dos modelos que menos falsos negativos tienen son el modelo logístico y el modelo random forest.\n",
    "\n",
    "Analizando pormenorizadamente cada modelo observamos que el modelo logit tiene menor número de falsos 'fully_paid' sin embargo, observamos que es muy elevada la cifra de clientes que categoriza como 'impagos' que en realidad no lo son. Siguiendo este criterio la entidad prestamista estaría dejando de dar muchos créditos con los que sí que obtendría beneficios. \n",
    "\n",
    "Creemos que es mejor la situación que proporciona el Random_forest que tiene es el segundo valor más bajo de clientes que no pagarán el crédito y además permitirá al prestamista ajustar y poder dar un mayor número de créditos a clientes que harán los pagos completos. Por lo que nuestro __mejor modelo es el Random Forest.__\n",
    "\n",
    "A continuación, vamos a proceder a estimar los mejores hiperparámetros para el modelo Random Forest:\n",
    "\n",
    "__Hiperparámetros:__\n",
    "\n",
    "Definimos los mejores hperparámetros para nuestro mejor modelo. Esto en pricipio, permitirá optimizar el modelo mejorando así su aaplicación.\n"
   ]
  },
  {
   "cell_type": "code",
   "execution_count": 12,
   "metadata": {},
   "outputs": [
    {
     "name": "stderr",
     "output_type": "stream",
     "text": [
      "C:\\Users\\Beatriz\\anaconda3\\lib\\site-packages\\sklearn\\model_selection\\_search.py:847: FutureWarning: The parameter 'iid' is deprecated in 0.22 and will be removed in 0.24.\n",
      "  warnings.warn(\n",
      "C:\\Users\\Beatriz\\anaconda3\\lib\\site-packages\\sklearn\\model_selection\\_search.py:765: DataConversionWarning: A column-vector y was passed when a 1d array was expected. Please change the shape of y to (n_samples,), for example using ravel().\n",
      "  self.best_estimator_.fit(X, y, **fit_params)\n"
     ]
    },
    {
     "name": "stdout",
     "output_type": "stream",
     "text": [
      "Wall time: 1h 30min 34s\n"
     ]
    },
    {
     "data": {
      "text/plain": [
       "GridSearchCV(cv=3, estimator=RandomForestClassifier(n_estimators=500),\n",
       "             iid=False, n_jobs=-1,\n",
       "             param_grid={'criterion': ['gini', 'entropy'],\n",
       "                         'max_features': ['auto', 'sqrt', 'log2'],\n",
       "                         'n_estimators': [200, 500]},\n",
       "             scoring='roc_auc')"
      ]
     },
     "execution_count": 12,
     "metadata": {},
     "output_type": "execute_result"
    }
   ],
   "source": [
    "%%time\n",
    "param_grid = {\n",
    "    'max_features': ['auto', 'sqrt', 'log2'],\n",
    "    'criterion' :['gini', 'entropy'],\n",
    "    'n_estimators': [200, 500]\n",
    " }\n",
    "\n",
    "gsearch_RandomForest = GridSearchCV(estimator = RandomForestClassifier(500), \n",
    "                                    param_grid = param_grid, \n",
    "                                    scoring = 'roc_auc',\n",
    "                                    n_jobs = -1, \n",
    "                                    iid = False, \n",
    "                                    cv = 3)\n",
    "\n",
    "gsearch_RandomForest.fit(X_train, Y_train)"
   ]
  },
  {
   "cell_type": "code",
   "execution_count": 13,
   "metadata": {},
   "outputs": [
    {
     "data": {
      "text/plain": [
       "{'criterion': 'entropy', 'max_features': 'auto', 'n_estimators': 500}"
      ]
     },
     "execution_count": 13,
     "metadata": {},
     "output_type": "execute_result"
    }
   ],
   "source": [
    "gsearch_RandomForest.best_params_"
   ]
  },
  {
   "cell_type": "code",
   "execution_count": 14,
   "metadata": {},
   "outputs": [
    {
     "data": {
      "text/plain": [
       "RandomForestClassifier(criterion='entropy', n_estimators=500)"
      ]
     },
     "execution_count": 14,
     "metadata": {},
     "output_type": "execute_result"
    }
   ],
   "source": [
    "\n",
    "gsearch_RandomForest.best_estimator_"
   ]
  },
  {
   "cell_type": "code",
   "execution_count": 15,
   "metadata": {},
   "outputs": [
    {
     "name": "stderr",
     "output_type": "stream",
     "text": [
      "<timed exec>:2: DataConversionWarning: A column-vector y was passed when a 1d array was expected. Please change the shape of y to (n_samples,), for example using ravel().\n"
     ]
    },
    {
     "name": "stdout",
     "output_type": "stream",
     "text": [
      "Wall time: 12min 25s\n"
     ]
    },
    {
     "data": {
      "text/plain": [
       "RandomForestClassifier(criterion='entropy', n_estimators=500)"
      ]
     },
     "execution_count": 15,
     "metadata": {},
     "output_type": "execute_result"
    }
   ],
   "source": [
    "%%time\n",
    "gsearch_RandomForest2 = gsearch_RandomForest.best_estimator_\n",
    "gsearch_RandomForest2.fit(X_train, Y_train)"
   ]
  },
  {
   "cell_type": "code",
   "execution_count": 25,
   "metadata": {},
   "outputs": [
    {
     "name": "stdout",
     "output_type": "stream",
     "text": [
      "              precision    recall  f1-score   support\n",
      "\n",
      "         0.0       0.94      0.93      0.93     69140\n",
      "         1.0       0.79      0.83      0.81     23299\n",
      "\n",
      "    accuracy                           0.90     92439\n",
      "   macro avg       0.87      0.88      0.87     92439\n",
      "weighted avg       0.90      0.90      0.90     92439\n",
      "\n",
      "Wall time: 12.9 s\n"
     ]
    },
    {
     "data": {
      "image/png": "[encoded data removed]",
      "text/plain": [
       "<Figure size 432x288 with 2 Axes>"
      ]
     },
     "metadata": {
      "needs_background": "light"
     },
     "output_type": "display_data"
    }
   ],
   "source": [
    "%%time\n",
    "pred_param = gsearch_RandomForest2.predict(X_test)\n",
    "conf_matrix(Y_test, pred_param)\n",
    "print(classification_report(Y_test ,pred_param))"
   ]
  },
  {
   "cell_type": "code",
   "execution_count": 18,
   "metadata": {},
   "outputs": [
    {
     "name": "stdout",
     "output_type": "stream",
     "text": [
      "              precision    recall  f1-score   support\n",
      "\n",
      "         0.0       0.94      0.93      0.93     69140\n",
      "         1.0       0.79      0.83      0.81     23299\n",
      "\n",
      "    accuracy                           0.90     92439\n",
      "   macro avg       0.87      0.88      0.87     92439\n",
      "weighted avg       0.90      0.90      0.90     92439\n",
      "\n",
      "Wall time: 13.9 s\n"
     ]
    },
    {
     "data": {
      "image/png": "[encoded data removed]",
      "text/plain": [
       "<Figure size 432x288 with 2 Axes>"
      ]
     },
     "metadata": {
      "needs_background": "light"
     },
     "output_type": "display_data"
    }
   ],
   "source": [
    "%%time\n",
    "pred_param = gsearch_RandomForest2.predict(X_test)\n",
    "conf_matrix_norm(Y_test, pred_param)\n",
    "print(classification_report(Y_test ,pred_param))"
   ]
  },
  {
   "cell_type": "code",
   "execution_count": 19,
   "metadata": {},
   "outputs": [
    {
     "data": {
      "image/png": "[encoded data removed]",
      "text/plain": [
       "<Figure size 432x288 with 1 Axes>"
      ]
     },
     "metadata": {
      "needs_background": "light"
     },
     "output_type": "display_data"
    },
    {
     "name": "stdout",
     "output_type": "stream",
     "text": [
      "Random Forest score train:  1.0\n",
      "Random Forest score:  0.9024221378422528\n"
     ]
    }
   ],
   "source": [
    "metrics.plot_roc_curve(gsearch_RandomForest2, X_test, Y_test)                       # CURVA ROC\n",
    "plt.show() \n",
    "print(\"Random Forest score train: \", gsearch_RandomForest2.score(X_train, Y_train)) # score_train\n",
    "print(\"Random Forest score: \", gsearch_RandomForest2.score(X_test, Y_test))         # score_test"
   ]
  },
  {
   "cell_type": "code",
   "execution_count": 20,
   "metadata": {},
   "outputs": [
    {
     "data": {
      "text/plain": [
       "<AxesSubplot:title={'center':'Cumulative Gains Curve'}, xlabel='Percentage of sample', ylabel='Gain'>"
      ]
     },
     "execution_count": 20,
     "metadata": {},
     "output_type": "execute_result"
    },
    {
     "data": {
      "image/png": "[encoded data removed]",
      "text/plain": [
       "<Figure size 432x288 with 1 Axes>"
      ]
     },
     "metadata": {
      "needs_background": "light"
     },
     "output_type": "display_data"
    }
   ],
   "source": [
    "# Deriving Class probabilities\n",
    "predicted_probabilities = gsearch_RandomForest2.predict_proba(X_test)\n",
    "# Creating the plot\n",
    "skplt.metrics.plot_cumulative_gain(Y_test, predicted_probabilities)"
   ]
  },
  {
   "cell_type": "code",
   "execution_count": 23,
   "metadata": {},
   "outputs": [
    {
     "data": {
      "image/png": "[encoded data removed]",
      "text/plain": [
       "<Figure size 432x288 with 1 Axes>"
      ]
     },
     "metadata": {
      "needs_background": "light"
     },
     "output_type": "display_data"
    }
   ],
   "source": [
    "coefs = np.abs(gsearch_RandomForest2.feature_importances_)\n",
    "indices = np.argsort(coefs)[::-1]\n",
    "\n",
    "plt.figure()\n",
    "plt.title(\"Feature importances (Random Forest Param)\")\n",
    "plt.bar(range(10), coefs[indices[:10]],\n",
    "       color=\"r\", align=\"center\")\n",
    "plt.xticks(range(10), X_train.columns[indices[:10]], rotation=45, ha='right')\n",
    "plt.subplots_adjust(bottom=0.3)"
   ]
  },
  {
   "cell_type": "code",
   "execution_count": 21,
   "metadata": {},
   "outputs": [],
   "source": [
    "# función para guardar el modelo\n",
    "def save_models(filename, model):\n",
    "    with open(filename, 'wb') as file:\n",
    "        pickle.dump(model, file)"
   ]
  },
  {
   "cell_type": "code",
   "execution_count": 22,
   "metadata": {},
   "outputs": [],
   "source": [
    "save_models('../data/04_models/rf_param.pkl', gsearch_RandomForest2) # ruta y modelo guradado IMP .plk"
   ]
  },
  {
   "cell_type": "markdown",
   "metadata": {},
   "source": [
    "### Conclusiones:\n",
    "\n",
    "El objetivo de este estudio era la estimación de diferentes modelos a partir de la base de datos aportada. Hemos llevado a cabo un análisis pormenorizado cada una de las variables realizando los ajustes pertinentes para proceder a la modelización. Este ha incluido un análisis exploratorio e ingeniería de variables. A continuación hemos definido y entrenado los diferentes modelos: modelo nulo, modelo logit, SVM, random forest y XGBOOST. Después de analizar los indicadores más relevantes de cada modelo, como la precisión, el f-1 o el número de falsos negativos, y teniendo en cuenta el conocimiento de negocio, hemos concluido que el modelo óptimo es el modelo random forest hiperparametrizado.\n",
    "\n",
    "La principal causa de esta decisión es que el número de falsos negativos de dicho modelo es el más reducido de todos, por lo que las entidades prestamistas estarían evitando rechazar créditos a buenos prestatarios, y por tanto aumentarían sus beneficios. \n",
    "\n",
    "Adicionalmente, mediante la curva de cumulative gains, hemos obtenido que nuestro modelo es capaz de predecir el 80% de los impagos con aproximadamente el 25% de la muestra y cerca del 100% de los impagos con el 60% de la muestra.\n",
    "\n",
    "\n",
    "Respecto a las variables seleccionadas, es destacable que \"last_fico_range_high\" explica casi el 50% respecto a las demás que explican mucho menos del modelo. Esta varibale hace referencia al rango superior al que pertenece el FICO (credit score) del prestario en el momento en el que se origina el préstamo (\"The upper boundary range the borrower’s FICO at loan origination belongs to\"). Es por ello, que es una variable de tanta importancia, ya que el historial de los prestarios suele determinar sus futuros cumplimientos o incumplimientos de deuda. Prueba de ello, es que durante la elaboración de este proyecto, eliminamos dicha variable para estudiar los modelos resultantes y obtuvimos que la capacidad predictiva disminuía considerablemente.\n",
    "\n",
    "Para concluir, nos gustaría destacar la importancia y dificultad del proceso de limpieza y selección de variables, siendo esencial el conocimiento de negocio, tanto para estas tareas, como para la selección del modelo óptimo."
   ]
  },
  {
   "cell_type": "markdown",
   "metadata": {},
   "source": [
    "### Referencias:\n",
    "- https://towardsdatascience.com/hyperparameter-tuning-c5619e7e6624\n",
    "- https://towardsdatascience.com/hyperparameters-optimization-526348bb8e2d\n",
    "- https://towardsdatascience.com/hyperparameter-tuning-the-random-forest-in-python-using-scikit-learn-28d2aa77dd74\n",
    "- https://empresas.blogthinkbig.com/ml-a-tu-alcance-matriz-confusion/\n",
    "- https://www.juanbarrios.com/la-matriz-de-confusion-y-sus-metricas/\n",
    "- https://stackoverflow.com/questions/2148543/how-to-write-a-confusion-matrix-in-python\n",
    "- https://machinelearningmastery.com/roc-curves-and-precision-recall-curves-for-classification-in-python/"
   ]
  }
 ],
 "metadata": {
  "kernelspec": {
   "display_name": "Python (lending_club_env)",
   "language": "python",
   "name": "lending_club_env"
  },
  "language_info": {
   "codemirror_mode": {
    "name": "ipython",
    "version": 3
   },
   "file_extension": ".py",
   "mimetype": "text/x-python",
   "name": "python",
   "nbconvert_exporter": "python",
   "pygments_lexer": "ipython3",
   "version": "3.8.5"
  }
 },
 "nbformat": 4,
 "nbformat_minor": 4
}
