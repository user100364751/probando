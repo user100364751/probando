{
 "cells": [
  {
   "cell_type": "markdown",
   "metadata": {},
   "source": [
    "__11/12/2020__\n",
    "\n",
    "Beatriz Cárdaba Rico\n",
    "\n",
    "Sara Bengoechea Rodríguez"
   ]
  },
  {
   "cell_type": "markdown",
   "metadata": {},
   "source": [
    "# XG BOOST:\n",
    "\n",
    "\n",
    "### En este notebook vamos a tratar un modelo Boosting\n",
    "\n",
    "El XGboost (Extra Gradient boosting) parte del árbol de decisiones que se implementa en minería de datos para clasificar o pronosticar sobre una variable objetivo (y), a través, del aprendizaje automático que se realiza sobre un set de datos, utilizando varios clasificadores débiles que en este caso, como ya mencionamos, son nuestros árboles de decisiones, pero potenciando los resultados de estos, debido al procesamiento secuencial de la data con una función de pérdida o coste, la cual, minimiza el error iteración tras iteración, haciéndolo de esta manera, un pronosticador fuerte.\n",
    "\n",
    "Sin embargo, como siempre esto va a depender del nivel de ajuste de los parámetros que utilicemos en la función: xgb, ya que, determinará los resultados del modelo.\n",
    "\n",
    "Así pues, indicamos las principales ventajas de utilizar este método, en nuestros proyectos:\n",
    " - Trabaja sobre grandes bases de datos con múltiples variables, tanto categóricas como numéricas.\n",
    " - Admite missing values, o valores perdidos en medio del procesamiento del algoritmo.\n",
    "\n",
    "No obstante presenta la siguiente desventaja principal:\n",
    "\n",
    " - Utiliza grandes cantidades de memoria RAM, por lo que, es recomendable procesar el algoritmo determinando previamente mediante una validación cruzada, las variables que más aportan información a la estructuración del modelo.\n",
    " \n",
    " \n",
    " \n",
    " \n",
    "Este notebook consta de la siguiente estructura:\n",
    "- Library Import\n",
    "- Data Import\n",
    "- Model Definition\n",
    "- Model Training\n",
    "- Confussion Matrix & Accuracy\n",
    "- ROC Curve\n",
    "- References\n",
    "\n",
    "\n",
    " __Importamos las librerías:__\n"
   ]
  },
  {
   "cell_type": "code",
   "execution_count": 1,
   "metadata": {},
   "outputs": [],
   "source": [
    "import numpy as np\n",
    "import pandas as pd\n",
    "import matplotlib\n",
    "from matplotlib import pyplot as plt # plots\n",
    "import seaborn as sns # plots\n",
    "from sklearn.ensemble import IsolationForest\n",
    "from sklearn import preprocessing \n",
    "from sklearn.linear_model import Lasso, LassoCV\n",
    "import pickle\n",
    "from sklearn.preprocessing import MinMaxScaler\n",
    "from sklearn.model_selection import train_test_split\n",
    "from imblearn.over_sampling import SMOTE\n",
    "from sklearn.linear_model import LogisticRegression # Log Regression\n",
    "from sklearn.metrics import classification_report, confusion_matrix \n",
    "\n",
    "from sklearn import datasets, metrics, model_selection\n",
    "from sklearn.model_selection import GridSearchCV\n",
    "from sklearn.svm import SVC # SVM\n",
    "from sklearn import svm\n",
    "from sklearn.ensemble import RandomForestClassifier \n",
    "import xgboost as xgb\n",
    "import scikitplot as skplt"
   ]
  },
  {
   "cell_type": "markdown",
   "metadata": {},
   "source": [
    "__Importamos los datos__"
   ]
  },
  {
   "cell_type": "code",
   "execution_count": 2,
   "metadata": {},
   "outputs": [
    {
     "data": {
      "text/html": [
       "<div>\n",
       "<style scoped>\n",
       "    .dataframe tbody tr th:only-of-type {\n",
       "        vertical-align: middle;\n",
       "    }\n",
       "\n",
       "    .dataframe tbody tr th {\n",
       "        vertical-align: top;\n",
       "    }\n",
       "\n",
       "    .dataframe thead th {\n",
       "        text-align: right;\n",
       "    }\n",
       "</style>\n",
       "<table border=\"1\" class=\"dataframe\">\n",
       "  <thead>\n",
       "    <tr style=\"text-align: right;\">\n",
       "      <th></th>\n",
       "      <th>Unnamed: 0</th>\n",
       "      <th>num_rev_accts</th>\n",
       "      <th>open_acc_6m</th>\n",
       "      <th>num_bc_tl</th>\n",
       "      <th>home_ownership_ANY</th>\n",
       "      <th>tot_hi_cred_lim</th>\n",
       "      <th>home_ownership_MORTGAGE</th>\n",
       "      <th>home_ownership_OWN</th>\n",
       "      <th>purpose_leisure</th>\n",
       "      <th>num_actv_bc_tl</th>\n",
       "      <th>...</th>\n",
       "      <th>funded_amnt</th>\n",
       "      <th>pct_tl_nvr_dlq</th>\n",
       "      <th>inq_last_6mths</th>\n",
       "      <th>loan_amnt</th>\n",
       "      <th>bc_open_to_buy</th>\n",
       "      <th>num_tl_30dpd</th>\n",
       "      <th>num_op_rev_tl</th>\n",
       "      <th>term_ 60 months</th>\n",
       "      <th>open_acc</th>\n",
       "      <th>total_rev_hi_lim</th>\n",
       "    </tr>\n",
       "  </thead>\n",
       "  <tbody>\n",
       "    <tr>\n",
       "      <th>0</th>\n",
       "      <td>0</td>\n",
       "      <td>0.100000</td>\n",
       "      <td>0.0</td>\n",
       "      <td>0.114286</td>\n",
       "      <td>0.0</td>\n",
       "      <td>0.019016</td>\n",
       "      <td>1.0</td>\n",
       "      <td>0.0</td>\n",
       "      <td>0.0</td>\n",
       "      <td>0.100000</td>\n",
       "      <td>...</td>\n",
       "      <td>0.333333</td>\n",
       "      <td>1.000000</td>\n",
       "      <td>0.000000</td>\n",
       "      <td>0.333333</td>\n",
       "      <td>0.000491</td>\n",
       "      <td>0.0</td>\n",
       "      <td>0.084337</td>\n",
       "      <td>0.0</td>\n",
       "      <td>0.100000</td>\n",
       "      <td>0.00234</td>\n",
       "    </tr>\n",
       "    <tr>\n",
       "      <th>1</th>\n",
       "      <td>1</td>\n",
       "      <td>0.027273</td>\n",
       "      <td>0.0</td>\n",
       "      <td>0.028571</td>\n",
       "      <td>0.0</td>\n",
       "      <td>0.006348</td>\n",
       "      <td>0.0</td>\n",
       "      <td>0.0</td>\n",
       "      <td>0.0</td>\n",
       "      <td>0.066667</td>\n",
       "      <td>...</td>\n",
       "      <td>0.275000</td>\n",
       "      <td>0.925140</td>\n",
       "      <td>0.166667</td>\n",
       "      <td>0.275000</td>\n",
       "      <td>0.006551</td>\n",
       "      <td>0.0</td>\n",
       "      <td>0.060241</td>\n",
       "      <td>0.0</td>\n",
       "      <td>0.144444</td>\n",
       "      <td>0.00122</td>\n",
       "    </tr>\n",
       "    <tr>\n",
       "      <th>2</th>\n",
       "      <td>2</td>\n",
       "      <td>0.072727</td>\n",
       "      <td>0.0</td>\n",
       "      <td>0.071429</td>\n",
       "      <td>0.0</td>\n",
       "      <td>0.033903</td>\n",
       "      <td>1.0</td>\n",
       "      <td>0.0</td>\n",
       "      <td>0.0</td>\n",
       "      <td>0.133333</td>\n",
       "      <td>...</td>\n",
       "      <td>0.179487</td>\n",
       "      <td>1.000000</td>\n",
       "      <td>0.000000</td>\n",
       "      <td>0.179487</td>\n",
       "      <td>0.024284</td>\n",
       "      <td>0.0</td>\n",
       "      <td>0.060241</td>\n",
       "      <td>0.0</td>\n",
       "      <td>0.100000</td>\n",
       "      <td>0.00283</td>\n",
       "    </tr>\n",
       "    <tr>\n",
       "      <th>3</th>\n",
       "      <td>3</td>\n",
       "      <td>0.127273</td>\n",
       "      <td>0.0</td>\n",
       "      <td>0.114286</td>\n",
       "      <td>0.0</td>\n",
       "      <td>0.005288</td>\n",
       "      <td>0.0</td>\n",
       "      <td>0.0</td>\n",
       "      <td>0.0</td>\n",
       "      <td>0.100000</td>\n",
       "      <td>...</td>\n",
       "      <td>0.102564</td>\n",
       "      <td>0.731844</td>\n",
       "      <td>0.000000</td>\n",
       "      <td>0.102564</td>\n",
       "      <td>0.003751</td>\n",
       "      <td>0.0</td>\n",
       "      <td>0.060241</td>\n",
       "      <td>0.0</td>\n",
       "      <td>0.111111</td>\n",
       "      <td>0.00073</td>\n",
       "    </tr>\n",
       "    <tr>\n",
       "      <th>4</th>\n",
       "      <td>4</td>\n",
       "      <td>0.318182</td>\n",
       "      <td>0.0</td>\n",
       "      <td>0.257143</td>\n",
       "      <td>0.0</td>\n",
       "      <td>0.008973</td>\n",
       "      <td>1.0</td>\n",
       "      <td>0.0</td>\n",
       "      <td>0.0</td>\n",
       "      <td>0.100000</td>\n",
       "      <td>...</td>\n",
       "      <td>0.102564</td>\n",
       "      <td>1.000000</td>\n",
       "      <td>0.166667</td>\n",
       "      <td>0.102564</td>\n",
       "      <td>0.002182</td>\n",
       "      <td>0.0</td>\n",
       "      <td>0.072289</td>\n",
       "      <td>0.0</td>\n",
       "      <td>0.088889</td>\n",
       "      <td>0.00169</td>\n",
       "    </tr>\n",
       "  </tbody>\n",
       "</table>\n",
       "<p>5 rows × 46 columns</p>\n",
       "</div>"
      ],
      "text/plain": [
       "   Unnamed: 0  num_rev_accts  open_acc_6m  num_bc_tl  home_ownership_ANY  \\\n",
       "0           0       0.100000          0.0   0.114286                 0.0   \n",
       "1           1       0.027273          0.0   0.028571                 0.0   \n",
       "2           2       0.072727          0.0   0.071429                 0.0   \n",
       "3           3       0.127273          0.0   0.114286                 0.0   \n",
       "4           4       0.318182          0.0   0.257143                 0.0   \n",
       "\n",
       "   tot_hi_cred_lim  home_ownership_MORTGAGE  home_ownership_OWN  \\\n",
       "0         0.019016                      1.0                 0.0   \n",
       "1         0.006348                      0.0                 0.0   \n",
       "2         0.033903                      1.0                 0.0   \n",
       "3         0.005288                      0.0                 0.0   \n",
       "4         0.008973                      1.0                 0.0   \n",
       "\n",
       "   purpose_leisure  num_actv_bc_tl  ...  funded_amnt  pct_tl_nvr_dlq  \\\n",
       "0              0.0        0.100000  ...     0.333333        1.000000   \n",
       "1              0.0        0.066667  ...     0.275000        0.925140   \n",
       "2              0.0        0.133333  ...     0.179487        1.000000   \n",
       "3              0.0        0.100000  ...     0.102564        0.731844   \n",
       "4              0.0        0.100000  ...     0.102564        1.000000   \n",
       "\n",
       "   inq_last_6mths  loan_amnt  bc_open_to_buy  num_tl_30dpd  num_op_rev_tl  \\\n",
       "0        0.000000   0.333333        0.000491           0.0       0.084337   \n",
       "1        0.166667   0.275000        0.006551           0.0       0.060241   \n",
       "2        0.000000   0.179487        0.024284           0.0       0.060241   \n",
       "3        0.000000   0.102564        0.003751           0.0       0.060241   \n",
       "4        0.166667   0.102564        0.002182           0.0       0.072289   \n",
       "\n",
       "   term_ 60 months  open_acc  total_rev_hi_lim  \n",
       "0              0.0  0.100000           0.00234  \n",
       "1              0.0  0.144444           0.00122  \n",
       "2              0.0  0.100000           0.00283  \n",
       "3              0.0  0.111111           0.00073  \n",
       "4              0.0  0.088889           0.00169  \n",
       "\n",
       "[5 rows x 46 columns]"
      ]
     },
     "execution_count": 2,
     "metadata": {},
     "output_type": "execute_result"
    }
   ],
   "source": [
    "X_train = pd.read_csv('../data/03_processed/x_train.csv')\n",
    "X_train.head()"
   ]
  },
  {
   "cell_type": "code",
   "execution_count": 3,
   "metadata": {},
   "outputs": [],
   "source": [
    "del X_train['Unnamed: 0'] # eliminamos la primera columna que se ha añadido"
   ]
  },
  {
   "cell_type": "code",
   "execution_count": 4,
   "metadata": {},
   "outputs": [
    {
     "data": {
      "text/html": [
       "<div>\n",
       "<style scoped>\n",
       "    .dataframe tbody tr th:only-of-type {\n",
       "        vertical-align: middle;\n",
       "    }\n",
       "\n",
       "    .dataframe tbody tr th {\n",
       "        vertical-align: top;\n",
       "    }\n",
       "\n",
       "    .dataframe thead th {\n",
       "        text-align: right;\n",
       "    }\n",
       "</style>\n",
       "<table border=\"1\" class=\"dataframe\">\n",
       "  <thead>\n",
       "    <tr style=\"text-align: right;\">\n",
       "      <th></th>\n",
       "      <th>Unnamed: 0</th>\n",
       "      <th>num_rev_accts</th>\n",
       "      <th>open_acc_6m</th>\n",
       "      <th>num_bc_tl</th>\n",
       "      <th>home_ownership_ANY</th>\n",
       "      <th>tot_hi_cred_lim</th>\n",
       "      <th>home_ownership_MORTGAGE</th>\n",
       "      <th>home_ownership_OWN</th>\n",
       "      <th>purpose_leisure</th>\n",
       "      <th>num_actv_bc_tl</th>\n",
       "      <th>...</th>\n",
       "      <th>funded_amnt</th>\n",
       "      <th>pct_tl_nvr_dlq</th>\n",
       "      <th>inq_last_6mths</th>\n",
       "      <th>loan_amnt</th>\n",
       "      <th>bc_open_to_buy</th>\n",
       "      <th>num_tl_30dpd</th>\n",
       "      <th>num_op_rev_tl</th>\n",
       "      <th>term_ 60 months</th>\n",
       "      <th>open_acc</th>\n",
       "      <th>total_rev_hi_lim</th>\n",
       "    </tr>\n",
       "  </thead>\n",
       "  <tbody>\n",
       "    <tr>\n",
       "      <th>0</th>\n",
       "      <td>137093</td>\n",
       "      <td>0.118182</td>\n",
       "      <td>0.0</td>\n",
       "      <td>0.100000</td>\n",
       "      <td>0.0</td>\n",
       "      <td>0.005378</td>\n",
       "      <td>0.0</td>\n",
       "      <td>0.0</td>\n",
       "      <td>0.0</td>\n",
       "      <td>0.066667</td>\n",
       "      <td>...</td>\n",
       "      <td>0.333333</td>\n",
       "      <td>0.840223</td>\n",
       "      <td>0.000000</td>\n",
       "      <td>0.333333</td>\n",
       "      <td>0.007237</td>\n",
       "      <td>0.0</td>\n",
       "      <td>0.060241</td>\n",
       "      <td>0.0</td>\n",
       "      <td>0.077778</td>\n",
       "      <td>0.00255</td>\n",
       "    </tr>\n",
       "    <tr>\n",
       "      <th>1</th>\n",
       "      <td>34771</td>\n",
       "      <td>0.145455</td>\n",
       "      <td>0.0</td>\n",
       "      <td>0.085714</td>\n",
       "      <td>0.0</td>\n",
       "      <td>0.004796</td>\n",
       "      <td>0.0</td>\n",
       "      <td>1.0</td>\n",
       "      <td>0.0</td>\n",
       "      <td>0.100000</td>\n",
       "      <td>...</td>\n",
       "      <td>0.292308</td>\n",
       "      <td>0.931844</td>\n",
       "      <td>0.166667</td>\n",
       "      <td>0.292308</td>\n",
       "      <td>0.000368</td>\n",
       "      <td>0.0</td>\n",
       "      <td>0.096386</td>\n",
       "      <td>0.0</td>\n",
       "      <td>0.100000</td>\n",
       "      <td>0.00236</td>\n",
       "    </tr>\n",
       "    <tr>\n",
       "      <th>2</th>\n",
       "      <td>71711</td>\n",
       "      <td>0.090909</td>\n",
       "      <td>0.0</td>\n",
       "      <td>0.100000</td>\n",
       "      <td>0.0</td>\n",
       "      <td>0.005021</td>\n",
       "      <td>1.0</td>\n",
       "      <td>0.0</td>\n",
       "      <td>0.0</td>\n",
       "      <td>0.200000</td>\n",
       "      <td>...</td>\n",
       "      <td>0.282051</td>\n",
       "      <td>1.000000</td>\n",
       "      <td>0.000000</td>\n",
       "      <td>0.282051</td>\n",
       "      <td>0.002116</td>\n",
       "      <td>0.0</td>\n",
       "      <td>0.120482</td>\n",
       "      <td>0.0</td>\n",
       "      <td>0.133333</td>\n",
       "      <td>0.00163</td>\n",
       "    </tr>\n",
       "    <tr>\n",
       "      <th>3</th>\n",
       "      <td>316353</td>\n",
       "      <td>0.100000</td>\n",
       "      <td>0.0</td>\n",
       "      <td>0.071429</td>\n",
       "      <td>0.0</td>\n",
       "      <td>0.034286</td>\n",
       "      <td>1.0</td>\n",
       "      <td>0.0</td>\n",
       "      <td>1.0</td>\n",
       "      <td>0.033333</td>\n",
       "      <td>...</td>\n",
       "      <td>0.179487</td>\n",
       "      <td>0.805587</td>\n",
       "      <td>0.000000</td>\n",
       "      <td>0.179487</td>\n",
       "      <td>0.000670</td>\n",
       "      <td>0.0</td>\n",
       "      <td>0.048193</td>\n",
       "      <td>0.0</td>\n",
       "      <td>0.088889</td>\n",
       "      <td>0.00274</td>\n",
       "    </tr>\n",
       "    <tr>\n",
       "      <th>4</th>\n",
       "      <td>71271</td>\n",
       "      <td>0.181818</td>\n",
       "      <td>0.0</td>\n",
       "      <td>0.157143</td>\n",
       "      <td>0.0</td>\n",
       "      <td>0.021202</td>\n",
       "      <td>1.0</td>\n",
       "      <td>0.0</td>\n",
       "      <td>0.0</td>\n",
       "      <td>0.133333</td>\n",
       "      <td>...</td>\n",
       "      <td>0.435897</td>\n",
       "      <td>1.000000</td>\n",
       "      <td>0.000000</td>\n",
       "      <td>0.435897</td>\n",
       "      <td>0.037936</td>\n",
       "      <td>0.0</td>\n",
       "      <td>0.120482</td>\n",
       "      <td>1.0</td>\n",
       "      <td>0.166667</td>\n",
       "      <td>0.00477</td>\n",
       "    </tr>\n",
       "  </tbody>\n",
       "</table>\n",
       "<p>5 rows × 46 columns</p>\n",
       "</div>"
      ],
      "text/plain": [
       "   Unnamed: 0  num_rev_accts  open_acc_6m  num_bc_tl  home_ownership_ANY  \\\n",
       "0      137093       0.118182          0.0   0.100000                 0.0   \n",
       "1       34771       0.145455          0.0   0.085714                 0.0   \n",
       "2       71711       0.090909          0.0   0.100000                 0.0   \n",
       "3      316353       0.100000          0.0   0.071429                 0.0   \n",
       "4       71271       0.181818          0.0   0.157143                 0.0   \n",
       "\n",
       "   tot_hi_cred_lim  home_ownership_MORTGAGE  home_ownership_OWN  \\\n",
       "0         0.005378                      0.0                 0.0   \n",
       "1         0.004796                      0.0                 1.0   \n",
       "2         0.005021                      1.0                 0.0   \n",
       "3         0.034286                      1.0                 0.0   \n",
       "4         0.021202                      1.0                 0.0   \n",
       "\n",
       "   purpose_leisure  num_actv_bc_tl  ...  funded_amnt  pct_tl_nvr_dlq  \\\n",
       "0              0.0        0.066667  ...     0.333333        0.840223   \n",
       "1              0.0        0.100000  ...     0.292308        0.931844   \n",
       "2              0.0        0.200000  ...     0.282051        1.000000   \n",
       "3              1.0        0.033333  ...     0.179487        0.805587   \n",
       "4              0.0        0.133333  ...     0.435897        1.000000   \n",
       "\n",
       "   inq_last_6mths  loan_amnt  bc_open_to_buy  num_tl_30dpd  num_op_rev_tl  \\\n",
       "0        0.000000   0.333333        0.007237           0.0       0.060241   \n",
       "1        0.166667   0.292308        0.000368           0.0       0.096386   \n",
       "2        0.000000   0.282051        0.002116           0.0       0.120482   \n",
       "3        0.000000   0.179487        0.000670           0.0       0.048193   \n",
       "4        0.000000   0.435897        0.037936           0.0       0.120482   \n",
       "\n",
       "   term_ 60 months  open_acc  total_rev_hi_lim  \n",
       "0              0.0  0.077778           0.00255  \n",
       "1              0.0  0.100000           0.00236  \n",
       "2              0.0  0.133333           0.00163  \n",
       "3              0.0  0.088889           0.00274  \n",
       "4              1.0  0.166667           0.00477  \n",
       "\n",
       "[5 rows x 46 columns]"
      ]
     },
     "execution_count": 4,
     "metadata": {},
     "output_type": "execute_result"
    }
   ],
   "source": [
    "X_test = pd.read_csv('../data/03_processed/x_test.csv')\n",
    "X_test.head()"
   ]
  },
  {
   "cell_type": "code",
   "execution_count": 5,
   "metadata": {},
   "outputs": [],
   "source": [
    "del X_test['Unnamed: 0'] # eliminamos la primera columna que se ha añadido"
   ]
  },
  {
   "cell_type": "code",
   "execution_count": 6,
   "metadata": {},
   "outputs": [],
   "source": [
    "Y_test = pd.read_csv('../data/03_processed/y_test.csv')"
   ]
  },
  {
   "cell_type": "code",
   "execution_count": 7,
   "metadata": {},
   "outputs": [],
   "source": [
    "del Y_test['Unnamed: 0'] # eliminamos la primera columna que se ha añadido"
   ]
  },
  {
   "cell_type": "code",
   "execution_count": 8,
   "metadata": {},
   "outputs": [],
   "source": [
    "Y_train = pd.read_csv('../data/03_processed/Y_train.csv')"
   ]
  },
  {
   "cell_type": "code",
   "execution_count": 9,
   "metadata": {},
   "outputs": [],
   "source": [
    "del Y_train['Unnamed: 0'] # eliminamos la primera columna que se ha añadido"
   ]
  },
  {
   "cell_type": "markdown",
   "metadata": {},
   "source": [
    "__Definimos y entrenamos el modelo XGBOOST.__\n",
    "\n",
    "Los modelos Gradient Boosting están formados por un conjunto de árboles de decisión individuales, entrenados de forma secuencial, de forma que cada nuevo árbol trata de mejorar los errores de los árboles anteriores. La predicción de una nueva observación se obtiene agregando las predicciones de todos los árboles individuales que forman el modelo."
   ]
  },
  {
   "cell_type": "code",
   "execution_count": 10,
   "metadata": {},
   "outputs": [
    {
     "name": "stderr",
     "output_type": "stream",
     "text": [
      "C:\\Users\\Beatriz\\anaconda3\\lib\\site-packages\\sklearn\\utils\\validation.py:72: DataConversionWarning: A column-vector y was passed when a 1d array was expected. Please change the shape of y to (n_samples, ), for example using ravel().\n",
      "  return f(**kwargs)\n"
     ]
    },
    {
     "name": "stdout",
     "output_type": "stream",
     "text": [
      "Wall time: 2min 50s\n"
     ]
    }
   ],
   "source": [
    "%%time\n",
    "\n",
    "# función del modelo\n",
    "XGBOOST = xgb.XGBClassifier(random_state = 1,          # semilla inicial de aleatoriedad del algoritmo\n",
    "                          n_estimators = 500,          # número de árboles \n",
    "                          booster='gbtree',            # tipo de bosster - gradient boosting\n",
    "                          n_jobs = -1,                 # número de prodesadores\n",
    "                          objective='binary:logistic') # indicamos que se trata de una variable binaria a predecir\n",
    "\n",
    "\n",
    "# Entrenamiento del modelo con dataset TRAIN\n",
    "XGBOOST.fit(X_train, Y_train)\n",
    "\n",
    "# Predicción del modelo con data set TEST\n",
    "Y_pred_boost = XGBOOST.predict(X_test)"
   ]
  },
  {
   "cell_type": "markdown",
   "metadata": {},
   "source": [
    "### Matriz de Confusión:\n",
    "La matriz de confusión de un problema de clase n es una matríz nxnen la que las filas se nombran según las clases reales y las columnas, según las clases previstas por el modelo. Sirve para mostrar de forma explícita cuándo una clase es confundida con otra\n",
    "\n",
    "__Accuracy:__ Es el porcentaje total de elementos clasificados correctamente."
   ]
  },
  {
   "cell_type": "code",
   "execution_count": 11,
   "metadata": {},
   "outputs": [],
   "source": [
    "# definimos la matriz de confusión para cualquir modelo\n",
    "def conf_matrix(Y_test, Y_pred): # va a comparar los resultados de las predicciones de la variable target vs la real del testset\n",
    "    cnf_matrix_tra = confusion_matrix(Y_test, Y_pred)\n",
    "    conf_plot = sns.heatmap(cnf_matrix_tra, annot=True, cmap='Blues', fmt='g')\n",
    "    bottom, top = conf_plot.get_ylim()\n",
    "    conf_plot.set_ylim(bottom + 0.5, top - 0.5)\n",
    "    conf_plot.set_title(\"Confusion matrix, without normalization\")\n",
    "    conf_plot.set_ylabel('True Label')\n",
    "    conf_plot.set_xlabel('Predicted Label');"
   ]
  },
  {
   "cell_type": "code",
   "execution_count": 12,
   "metadata": {},
   "outputs": [
    {
     "name": "stdout",
     "output_type": "stream",
     "text": [
      "              precision    recall  f1-score   support\n",
      "\n",
      "         0.0       0.94      0.93      0.93     69140\n",
      "         1.0       0.80      0.81      0.81     23299\n",
      "\n",
      "    accuracy                           0.90     92439\n",
      "   macro avg       0.87      0.87      0.87     92439\n",
      "weighted avg       0.90      0.90      0.90     92439\n",
      "\n",
      "Wall time: 505 ms\n"
     ]
    },
    {
     "data": {
      "image/png": "[encoded data removed]",
      "text/plain": [
       "<Figure size 432x288 with 2 Axes>"
      ]
     },
     "metadata": {
      "needs_background": "light"
     },
     "output_type": "display_data"
    }
   ],
   "source": [
    "%%time \n",
    "\n",
    "# calculamos la matriz de confusión del modelo:\n",
    "conf_matrix(Y_test, Y_pred_boost)                 # para la matriz de confusión usamos los datos de test\n",
    "print(classification_report(Y_test,Y_pred_boost)) # comparamos los restulados de la prediccion y los dados por el dataset Y_test"
   ]
  },
  {
   "cell_type": "markdown",
   "metadata": {},
   "source": [
    "### Matriz Normalizada"
   ]
  },
  {
   "cell_type": "code",
   "execution_count": 13,
   "metadata": {},
   "outputs": [],
   "source": [
    "def conf_matrix_norm(Y_test, Y_pred): # va a comparar los resultados de las predicciones de la variable target vs la real del testset\n",
    "    cnf_matrix_tra = confusion_matrix(Y_test, Y_pred,  normalize='true')\n",
    "    conf_plot = sns.heatmap(cnf_matrix_tra, annot=True, cmap='Blues', fmt='g')\n",
    "    bottom, top = conf_plot.get_ylim()\n",
    "    conf_plot.set_ylim(bottom + 0.5, top - 0.5)\n",
    "    conf_plot.set_title(\"Confusion matrix, with normalization\")\n",
    "    conf_plot.set_ylabel('True Label')\n",
    "    conf_plot.set_xlabel('Predicted Label');"
   ]
  },
  {
   "cell_type": "code",
   "execution_count": 14,
   "metadata": {},
   "outputs": [
    {
     "name": "stdout",
     "output_type": "stream",
     "text": [
      "              precision    recall  f1-score   support\n",
      "\n",
      "         0.0       0.94      0.93      0.93     69140\n",
      "         1.0       0.80      0.81      0.81     23299\n",
      "\n",
      "    accuracy                           0.90     92439\n",
      "   macro avg       0.87      0.87      0.87     92439\n",
      "weighted avg       0.90      0.90      0.90     92439\n",
      "\n"
     ]
    },
    {
     "data": {
      "image/png": "[encoded data removed]",
      "text/plain": [
       "<Figure size 432x288 with 2 Axes>"
      ]
     },
     "metadata": {
      "needs_background": "light"
     },
     "output_type": "display_data"
    }
   ],
   "source": [
    "conf_matrix_norm(Y_test, Y_pred_boost)\n",
    "print(classification_report(Y_test, Y_pred_boost))"
   ]
  },
  {
   "cell_type": "markdown",
   "metadata": {},
   "source": [
    "### Curva ROC:\n",
    "\n",
    "Una curva ROC (curva de característica operativa del recepto) es un gráfico que muestra el rendimiento de un modelo de clasificación en todos los umbrales de clasificación. Esta curva representa dos parámetros:\n",
    " - Tasa de verdaderos positivos\n",
    " - Tasa de falsos positivos\n",
    " \n",
    "__El AUC__ proporciona una medición agregada del rendimiento en todos los umbrales de clasificación posibles. Una forma de interpretar el AUC es como la probabilidad de que el modelo clasifique un ejemplo positivo aleatorio más alto que un ejemplo negativo aleatorio."
   ]
  },
  {
   "cell_type": "code",
   "execution_count": 15,
   "metadata": {},
   "outputs": [
    {
     "data": {
      "image/png": "[encoded data removed]",
      "text/plain": [
       "<Figure size 432x288 with 1 Axes>"
      ]
     },
     "metadata": {
      "needs_background": "light"
     },
     "output_type": "display_data"
    },
    {
     "name": "stdout",
     "output_type": "stream",
     "text": [
      "XGBOOST score train:  0.9355493988607817\n",
      "XGBOOST score:  0.9009833511829423\n"
     ]
    }
   ],
   "source": [
    "metrics.plot_roc_curve(XGBOOST, X_test, Y_test)                 # CURVA ROC\n",
    "plt.show() \n",
    "print(\"XGBOOST score train: \", XGBOOST.score(X_train, Y_train)) # score_train\n",
    "print(\"XGBOOST score: \", XGBOOST.score(X_test, Y_test))         # score_test"
   ]
  },
  {
   "cell_type": "markdown",
   "metadata": {},
   "source": [
    "### Gain Curve:\n",
    "Se utiliza para evaluar el rendimiento del modelo de clasificación. Miden como un modelo es capaz de mejorar una predicción aleatoria, es decir cómo es de útil el modelo para predecir valores"
   ]
  },
  {
   "cell_type": "code",
   "execution_count": 16,
   "metadata": {},
   "outputs": [
    {
     "data": {
      "text/plain": [
       "<AxesSubplot:title={'center':'Cumulative Gains Curve'}, xlabel='Percentage of sample', ylabel='Gain'>"
      ]
     },
     "execution_count": 16,
     "metadata": {},
     "output_type": "execute_result"
    },
    {
     "data": {
      "image/png": "[encoded data removed]",
      "text/plain": [
       "<Figure size 432x288 with 1 Axes>"
      ]
     },
     "metadata": {
      "needs_background": "light"
     },
     "output_type": "display_data"
    }
   ],
   "source": [
    "# Deriving Class probabilities\n",
    "predicted_probabilities = XGBOOST.predict_proba(X_test)\n",
    "# Creating the plot\n",
    "skplt.metrics.plot_cumulative_gain(Y_test, predicted_probabilities)"
   ]
  },
  {
   "cell_type": "markdown",
   "metadata": {},
   "source": [
    "### Feature importance\n",
    "\n",
    "Determina cuáles son las variables que más influyen en el modelo:"
   ]
  },
  {
   "cell_type": "code",
   "execution_count": 17,
   "metadata": {},
   "outputs": [
    {
     "data": {
      "image/png": "[encoded data removed]",
      "text/plain": [
       "<Figure size 432x288 with 1 Axes>"
      ]
     },
     "metadata": {
      "needs_background": "light"
     },
     "output_type": "display_data"
    }
   ],
   "source": [
    "coefs = np.abs(XGBOOST.feature_importances_)\n",
    "indices = np.argsort(coefs)[::-1]\n",
    "\n",
    "plt.figure()\n",
    "plt.title(\"Feature importances (XGBOOST)\")\n",
    "plt.bar(range(10), coefs[indices[:10]],\n",
    "       color=\"r\", align=\"center\")\n",
    "plt.xticks(range(10), X_train.columns[indices[:10]], rotation=45, ha='right')\n",
    "plt.subplots_adjust(bottom=0.3)"
   ]
  },
  {
   "cell_type": "markdown",
   "metadata": {},
   "source": [
    "__Guardamos el modelo entrenado para poder ejecutarlo más adelante con otro test__"
   ]
  },
  {
   "cell_type": "code",
   "execution_count": 18,
   "metadata": {},
   "outputs": [],
   "source": [
    "# función para guardar el modelo\n",
    "def save_models(filename, model):\n",
    "    with open(filename, 'wb') as file:\n",
    "        pickle.dump(model, file)"
   ]
  },
  {
   "cell_type": "code",
   "execution_count": 19,
   "metadata": {},
   "outputs": [],
   "source": [
    "save_models('../data/04_models/xg_boost.pkl', XGBOOST ) # ruta y modelo guradado IMP .plk"
   ]
  },
  {
   "cell_type": "markdown",
   "metadata": {},
   "source": [
    "### Referencias:\n",
    "- https://towardsdatascience.com/xgboost-python-example-42777d01001e\n",
    "- https://relopezbriega.github.io/blog/2017/06/10/boosting-en-machine-learning-con-python/\n",
    "- https://medium.com/@jboscomendoza/tutorial-xgboost-en-python-53e48fc58f73\n",
    "- https://empresas.blogthinkbig.com/ml-a-tu-alcance-matriz-confusion/\n",
    "- https://www.juanbarrios.com/la-matriz-de-confusion-y-sus-metricas/\n",
    "- https://stackoverflow.com/questions/2148543/how-to-write-a-confusion-matrix-in-python\n",
    "- https://machinelearningmastery.com/roc-curves-and-precision-recall-curves-for-classification-in-python/"
   ]
  }
 ],
 "metadata": {
  "kernelspec": {
   "display_name": "Python (lending_club_env)",
   "language": "python",
   "name": "lending_club_env"
  },
  "language_info": {
   "codemirror_mode": {
    "name": "ipython",
    "version": 3
   },
   "file_extension": ".py",
   "mimetype": "text/x-python",
   "name": "python",
   "nbconvert_exporter": "python",
   "pygments_lexer": "ipython3",
   "version": "3.8.5"
  }
 },
 "nbformat": 4,
 "nbformat_minor": 4
}
