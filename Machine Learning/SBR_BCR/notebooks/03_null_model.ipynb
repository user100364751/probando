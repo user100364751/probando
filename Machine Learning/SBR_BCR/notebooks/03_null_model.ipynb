{
 "cells": [
  {
   "cell_type": "markdown",
   "metadata": {},
   "source": [
    "__11/12/2020__\n",
    "\n",
    "Beatriz Cárdaba Rico\n",
    "\n",
    "Sara Bengoechea Rodríguez"
   ]
  },
  {
   "cell_type": "markdown",
   "metadata": {},
   "source": [
    "# Train-Test Set  & Null Model\n",
    "\n",
    "En este notebook vamos a crear los data sets correspondientes a train y a test. Además se va a entrenar el modelo nulo para tener una primera visión del caso de estudio.\n",
    "\n",
    "- Libraries Import\n",
    "- Data Import\n",
    "- Data Scale\n",
    "- Train & Test set\n",
    "- Balance set\n",
    "- __NULL MODEL__\n",
    "    - Function \n",
    "    - Training\n",
    "    - Confussion Matrix\n",
    "    - Accuracy\n",
    "    - ROC Curve\n",
    "- References\n",
    "\n",
    "\n",
    "\n",
    "__Importamos todas las librerías que se van a utilizar en este notebook:__"
   ]
  },
  {
   "cell_type": "code",
   "execution_count": 1,
   "metadata": {},
   "outputs": [],
   "source": [
    "import numpy as np\n",
    "import pandas as pd\n",
    "import matplotlib\n",
    "from matplotlib import pyplot as plt # plots\n",
    "import seaborn as sns # plots\n",
    "from sklearn.ensemble import IsolationForest\n",
    "from sklearn import preprocessing \n",
    "from sklearn.linear_model import Lasso, LassoCV\n",
    "import pickle\n",
    "from sklearn.preprocessing import MinMaxScaler\n",
    "from sklearn.model_selection import train_test_split\n",
    "from imblearn.over_sampling import SMOTE\n",
    "from sklearn.dummy import DummyClassifier\n",
    "from sklearn.linear_model import LogisticRegression # Log Regression\n",
    "from sklearn.metrics import classification_report, confusion_matrix \n",
    "from sklearn import datasets, metrics, model_selection"
   ]
  },
  {
   "cell_type": "markdown",
   "metadata": {},
   "source": [
    "__Importamos los datos:__"
   ]
  },
  {
   "cell_type": "code",
   "execution_count": 2,
   "metadata": {},
   "outputs": [],
   "source": [
    "path = ('../data/03_processed/final_df.csv')\n",
    "final_df = pd.read_csv(path)"
   ]
  },
  {
   "cell_type": "markdown",
   "metadata": {},
   "source": [
    "__Escalamos los datos:__"
   ]
  },
  {
   "cell_type": "code",
   "execution_count": 3,
   "metadata": {},
   "outputs": [
    {
     "data": {
      "text/html": [
       "<div>\n",
       "<style scoped>\n",
       "    .dataframe tbody tr th:only-of-type {\n",
       "        vertical-align: middle;\n",
       "    }\n",
       "\n",
       "    .dataframe tbody tr th {\n",
       "        vertical-align: top;\n",
       "    }\n",
       "\n",
       "    .dataframe thead th {\n",
       "        text-align: right;\n",
       "    }\n",
       "</style>\n",
       "<table border=\"1\" class=\"dataframe\">\n",
       "  <thead>\n",
       "    <tr style=\"text-align: right;\">\n",
       "      <th></th>\n",
       "      <th>num_rev_accts</th>\n",
       "      <th>open_acc_6m</th>\n",
       "      <th>num_bc_tl</th>\n",
       "      <th>home_ownership_ANY</th>\n",
       "      <th>tot_hi_cred_lim</th>\n",
       "      <th>home_ownership_MORTGAGE</th>\n",
       "      <th>home_ownership_OWN</th>\n",
       "      <th>purpose_leisure</th>\n",
       "      <th>num_actv_bc_tl</th>\n",
       "      <th>verification_status_Source Verified</th>\n",
       "      <th>...</th>\n",
       "      <th>pct_tl_nvr_dlq</th>\n",
       "      <th>inq_last_6mths</th>\n",
       "      <th>loan_amnt</th>\n",
       "      <th>bc_open_to_buy</th>\n",
       "      <th>num_tl_30dpd</th>\n",
       "      <th>num_op_rev_tl</th>\n",
       "      <th>term_ 60 months</th>\n",
       "      <th>open_acc</th>\n",
       "      <th>total_rev_hi_lim</th>\n",
       "      <th>target</th>\n",
       "    </tr>\n",
       "  </thead>\n",
       "  <tbody>\n",
       "    <tr>\n",
       "      <th>0</th>\n",
       "      <td>0.272727</td>\n",
       "      <td>0.071429</td>\n",
       "      <td>0.228571</td>\n",
       "      <td>0.0</td>\n",
       "      <td>0.052817</td>\n",
       "      <td>0.0</td>\n",
       "      <td>1.0</td>\n",
       "      <td>0.0</td>\n",
       "      <td>0.200000</td>\n",
       "      <td>0.0</td>\n",
       "      <td>...</td>\n",
       "      <td>0.951955</td>\n",
       "      <td>0.000000</td>\n",
       "      <td>0.271154</td>\n",
       "      <td>0.043344</td>\n",
       "      <td>0.0</td>\n",
       "      <td>0.192771</td>\n",
       "      <td>0.0</td>\n",
       "      <td>0.222222</td>\n",
       "      <td>0.00376</td>\n",
       "      <td>0.0</td>\n",
       "    </tr>\n",
       "    <tr>\n",
       "      <th>1</th>\n",
       "      <td>0.009091</td>\n",
       "      <td>0.000000</td>\n",
       "      <td>0.042857</td>\n",
       "      <td>0.0</td>\n",
       "      <td>0.000760</td>\n",
       "      <td>0.0</td>\n",
       "      <td>0.0</td>\n",
       "      <td>0.0</td>\n",
       "      <td>0.066667</td>\n",
       "      <td>1.0</td>\n",
       "      <td>...</td>\n",
       "      <td>0.776536</td>\n",
       "      <td>0.000000</td>\n",
       "      <td>0.158974</td>\n",
       "      <td>0.000071</td>\n",
       "      <td>0.0</td>\n",
       "      <td>0.036145</td>\n",
       "      <td>0.0</td>\n",
       "      <td>0.044444</td>\n",
       "      <td>0.00036</td>\n",
       "      <td>0.0</td>\n",
       "    </tr>\n",
       "    <tr>\n",
       "      <th>2</th>\n",
       "      <td>0.118182</td>\n",
       "      <td>0.071429</td>\n",
       "      <td>0.185714</td>\n",
       "      <td>0.0</td>\n",
       "      <td>0.035062</td>\n",
       "      <td>1.0</td>\n",
       "      <td>0.0</td>\n",
       "      <td>0.0</td>\n",
       "      <td>0.366667</td>\n",
       "      <td>0.0</td>\n",
       "      <td>...</td>\n",
       "      <td>1.000000</td>\n",
       "      <td>0.333333</td>\n",
       "      <td>0.166667</td>\n",
       "      <td>0.107788</td>\n",
       "      <td>0.0</td>\n",
       "      <td>0.168675</td>\n",
       "      <td>0.0</td>\n",
       "      <td>0.211111</td>\n",
       "      <td>0.00857</td>\n",
       "      <td>0.0</td>\n",
       "    </tr>\n",
       "    <tr>\n",
       "      <th>3</th>\n",
       "      <td>0.136364</td>\n",
       "      <td>0.071429</td>\n",
       "      <td>0.114286</td>\n",
       "      <td>0.0</td>\n",
       "      <td>0.003420</td>\n",
       "      <td>0.0</td>\n",
       "      <td>0.0</td>\n",
       "      <td>0.0</td>\n",
       "      <td>0.100000</td>\n",
       "      <td>1.0</td>\n",
       "      <td>...</td>\n",
       "      <td>1.000000</td>\n",
       "      <td>0.000000</td>\n",
       "      <td>0.230769</td>\n",
       "      <td>0.026126</td>\n",
       "      <td>0.0</td>\n",
       "      <td>0.168675</td>\n",
       "      <td>1.0</td>\n",
       "      <td>0.166667</td>\n",
       "      <td>0.00287</td>\n",
       "      <td>0.0</td>\n",
       "    </tr>\n",
       "    <tr>\n",
       "      <th>4</th>\n",
       "      <td>0.036364</td>\n",
       "      <td>0.071429</td>\n",
       "      <td>0.071429</td>\n",
       "      <td>0.0</td>\n",
       "      <td>0.017059</td>\n",
       "      <td>1.0</td>\n",
       "      <td>0.0</td>\n",
       "      <td>0.0</td>\n",
       "      <td>0.033333</td>\n",
       "      <td>0.0</td>\n",
       "      <td>...</td>\n",
       "      <td>0.888268</td>\n",
       "      <td>0.000000</td>\n",
       "      <td>0.333333</td>\n",
       "      <td>0.000536</td>\n",
       "      <td>0.0</td>\n",
       "      <td>0.012048</td>\n",
       "      <td>0.0</td>\n",
       "      <td>0.044444</td>\n",
       "      <td>0.00030</td>\n",
       "      <td>0.0</td>\n",
       "    </tr>\n",
       "  </tbody>\n",
       "</table>\n",
       "<p>5 rows × 46 columns</p>\n",
       "</div>"
      ],
      "text/plain": [
       "   num_rev_accts  open_acc_6m  num_bc_tl  home_ownership_ANY  tot_hi_cred_lim  \\\n",
       "0       0.272727     0.071429   0.228571                 0.0         0.052817   \n",
       "1       0.009091     0.000000   0.042857                 0.0         0.000760   \n",
       "2       0.118182     0.071429   0.185714                 0.0         0.035062   \n",
       "3       0.136364     0.071429   0.114286                 0.0         0.003420   \n",
       "4       0.036364     0.071429   0.071429                 0.0         0.017059   \n",
       "\n",
       "   home_ownership_MORTGAGE  home_ownership_OWN  purpose_leisure  \\\n",
       "0                      0.0                 1.0              0.0   \n",
       "1                      0.0                 0.0              0.0   \n",
       "2                      1.0                 0.0              0.0   \n",
       "3                      0.0                 0.0              0.0   \n",
       "4                      1.0                 0.0              0.0   \n",
       "\n",
       "   num_actv_bc_tl  verification_status_Source Verified  ...  pct_tl_nvr_dlq  \\\n",
       "0        0.200000                                  0.0  ...        0.951955   \n",
       "1        0.066667                                  1.0  ...        0.776536   \n",
       "2        0.366667                                  0.0  ...        1.000000   \n",
       "3        0.100000                                  1.0  ...        1.000000   \n",
       "4        0.033333                                  0.0  ...        0.888268   \n",
       "\n",
       "   inq_last_6mths  loan_amnt  bc_open_to_buy  num_tl_30dpd  num_op_rev_tl  \\\n",
       "0        0.000000   0.271154        0.043344           0.0       0.192771   \n",
       "1        0.000000   0.158974        0.000071           0.0       0.036145   \n",
       "2        0.333333   0.166667        0.107788           0.0       0.168675   \n",
       "3        0.000000   0.230769        0.026126           0.0       0.168675   \n",
       "4        0.000000   0.333333        0.000536           0.0       0.012048   \n",
       "\n",
       "   term_ 60 months  open_acc  total_rev_hi_lim  target  \n",
       "0              0.0  0.222222           0.00376     0.0  \n",
       "1              0.0  0.044444           0.00036     0.0  \n",
       "2              0.0  0.211111           0.00857     0.0  \n",
       "3              1.0  0.166667           0.00287     0.0  \n",
       "4              0.0  0.044444           0.00030     0.0  \n",
       "\n",
       "[5 rows x 46 columns]"
      ]
     },
     "execution_count": 3,
     "metadata": {},
     "output_type": "execute_result"
    }
   ],
   "source": [
    "scaler = MinMaxScaler()  # escalamos los datos                                     \n",
    "df_scaled = pd.DataFrame(scaler.fit_transform(final_df), columns = final_df.columns) # trasformamos a df los datos escalados\n",
    "df_scaled.head()"
   ]
  },
  {
   "cell_type": "code",
   "execution_count": 4,
   "metadata": {},
   "outputs": [],
   "source": [
    "df_scaled = df_scaled.loc[:, ['num_rev_accts',\n",
    "                                 'open_acc_6m',\n",
    "                                 'num_bc_tl',\n",
    "                                 'home_ownership_ANY',\n",
    "                                 'tot_hi_cred_lim',\n",
    "                                 'home_ownership_MORTGAGE',\n",
    "                                 'home_ownership_OWN',\n",
    "                                 'purpose_leisure',\n",
    "                                 'num_actv_bc_tl',\n",
    "                                 'verification_status_Source Verified',\n",
    "                                 'num_il_tl',\n",
    "                                 'total_acc',\n",
    "                                 'tax_liens',\n",
    "                                 'delinq_amnt',\n",
    "                                 'mo_sin_rcnt_rev_tl_op',\n",
    "                                 'installment',\n",
    "                                 'purpose_debt_consolidation',\n",
    "                                 'mo_sin_rcnt_tl',\n",
    "                                 'bc_util',\n",
    "                                 'total_bal_ex_mort',\n",
    "                                 'mo_sin_old_il_acct',\n",
    "                                 'inq_last_12m',\n",
    "                                 'emp_length_> 10 years',\n",
    "                                 'open_il_24m',\n",
    "                                 'il_util',\n",
    "                                 'fico_range_high',\n",
    "                                 'max_bal_bc',\n",
    "                                 'dti',\n",
    "                                 'last_fico_range_high',\n",
    "                                 'pub_rec',\n",
    "                                 'emp_length_5-10 years',\n",
    "                                 'application_type_Joint App',\n",
    "                                 'open_act_il',\n",
    "                                 'pub_rec_bankruptcies',\n",
    "                                 'tot_coll_amt',\n",
    "                                 'funded_amnt',\n",
    "                                 'pct_tl_nvr_dlq',\n",
    "                                 'inq_last_6mths',\n",
    "                                 'loan_amnt',\n",
    "                                 'bc_open_to_buy',\n",
    "                                 'num_tl_30dpd',\n",
    "                                 'num_op_rev_tl',\n",
    "                                 'term_ 60 months',\n",
    "                                 'open_acc',\n",
    "                                 'total_rev_hi_lim',\n",
    "                             'target']]"
   ]
  },
  {
   "cell_type": "markdown",
   "metadata": {},
   "source": [
    "Nombramos y seleccionamos las variables predictoras y la variable target:"
   ]
  },
  {
   "cell_type": "code",
   "execution_count": 5,
   "metadata": {},
   "outputs": [],
   "source": [
    "predictiveVariables = df_scaled.loc[:, df_scaled.columns != 'target'] #serán todas menos la varoables target\n",
    "\n",
    "target = df_scaled['target']                                          # es la variable 'target' de la bbdd importada"
   ]
  },
  {
   "cell_type": "markdown",
   "metadata": {},
   "source": [
    "Para hacer la regresión logística y el resto de los modelos tenemos que dividir el conjunto de datos en dos partes, train y test.\n",
    "Del EDA sabemos que el conjunto de datos está desequilibrado, tenemos casos casos de no default y unos pocos casos de default en comparación. Para resolver ese problema, aplicaremos un método de sobremuestreo llamado Smote. La función Smote crea muestras sintéticas de la clase minoritaria haciendo que la clase minoritaria sea igual a la mayoritaria. Para ello, Smote selecciona registros similares.\n",
    "\n",
    "__Creación de Train & Test Set y se balancea la muestra__"
   ]
  },
  {
   "cell_type": "code",
   "execution_count": 6,
   "metadata": {},
   "outputs": [
    {
     "name": "stdout",
     "output_type": "stream",
     "text": [
      "(386932, 45)\n",
      "(92439, 45)\n",
      "(386932,)\n",
      "(92439,)\n",
      "Wall time: 3min 44s\n"
     ]
    }
   ],
   "source": [
    "%%time\n",
    "\n",
    "# Separamos en train y test\n",
    "X_train, X_test, Y_train, Y_test = train_test_split(predictiveVariables, target, test_size=0.20, random_state=1)\n",
    "\n",
    "# Utilizamos smote para igular la muestra \n",
    "sm = SMOTE(random_state=2,sampling_strategy = 0.4)\n",
    "\n",
    "# solo se realiza smote sobre la parte train set\n",
    "X_train, Y_train = sm.fit_sample(X_train, Y_train) \n",
    "\n",
    "\n",
    "print(X_train.shape); print(X_test.shape); print(Y_train.shape); print(Y_test.shape)"
   ]
  },
  {
   "cell_type": "code",
   "execution_count": 7,
   "metadata": {},
   "outputs": [
    {
     "name": "stdout",
     "output_type": "stream",
     "text": [
      "(276380,)\n",
      "(110552,)\n"
     ]
    }
   ],
   "source": [
    "print(Y_train[Y_train == 0].shape)\n",
    "print(Y_train[Y_train == 1].shape)"
   ]
  },
  {
   "cell_type": "markdown",
   "metadata": {},
   "source": [
    "Comprobamos que los datos de las variables predictoras y las variables predictoras son iguales"
   ]
  },
  {
   "cell_type": "markdown",
   "metadata": {},
   "source": [
    "__Pasamos los datos a la carpeta de los datos procesados para utilizar lso mismos datos en todos los modelos:__"
   ]
  },
  {
   "cell_type": "code",
   "execution_count": 8,
   "metadata": {},
   "outputs": [],
   "source": [
    "X_train.to_csv('../data/03_processed/x_train.csv')"
   ]
  },
  {
   "cell_type": "code",
   "execution_count": 9,
   "metadata": {},
   "outputs": [],
   "source": [
    "X_test.to_csv('../data/03_processed/x_test.csv')"
   ]
  },
  {
   "cell_type": "code",
   "execution_count": 10,
   "metadata": {},
   "outputs": [],
   "source": [
    "Y_train.to_csv('../data/03_processed/y_train.csv')"
   ]
  },
  {
   "cell_type": "code",
   "execution_count": 11,
   "metadata": {},
   "outputs": [],
   "source": [
    "Y_test.to_csv('../data/03_processed/y_test.csv')"
   ]
  },
  {
   "cell_type": "markdown",
   "metadata": {},
   "source": [
    "Comprobamos que ahora están repartidos de igual manera las dos opciones de la variable target"
   ]
  },
  {
   "cell_type": "code",
   "execution_count": 12,
   "metadata": {},
   "outputs": [],
   "source": [
    "ytrain_df = pd.DataFrame(Y_train, columns = ['target'])\n",
    "ytest_df = pd.DataFrame(Y_test, columns = ['target'])"
   ]
  },
  {
   "cell_type": "code",
   "execution_count": 13,
   "metadata": {},
   "outputs": [
    {
     "data": {
      "text/plain": [
       "0.0    0.714286\n",
       "1.0    0.285714\n",
       "Name: target, dtype: float64"
      ]
     },
     "execution_count": 13,
     "metadata": {},
     "output_type": "execute_result"
    }
   ],
   "source": [
    "ytrain_df['target'].value_counts(normalize=True)"
   ]
  },
  {
   "cell_type": "markdown",
   "metadata": {},
   "source": [
    "La funcionado la función SMOTE y haya  cantidad de muestras 1 en la variable target."
   ]
  },
  {
   "cell_type": "code",
   "execution_count": 14,
   "metadata": {},
   "outputs": [
    {
     "data": {
      "text/plain": [
       "0.0    0.747953\n",
       "1.0    0.252047\n",
       "Name: target, dtype: float64"
      ]
     },
     "execution_count": 14,
     "metadata": {},
     "output_type": "execute_result"
    }
   ],
   "source": [
    "ytest_df['target'].value_counts(normalize=True)"
   ]
  },
  {
   "cell_type": "markdown",
   "metadata": {},
   "source": [
    "## Modelo Nulo:\n",
    "\n",
    "Este es el modelo más secillo, que simplemente devolverá el valor más probable para cada observación. en este caso vemos que el valor más probable para la variable target es: 0"
   ]
  },
  {
   "cell_type": "code",
   "execution_count": 15,
   "metadata": {},
   "outputs": [
    {
     "data": {
      "text/plain": [
       "DummyClassifier(random_state=123, strategy='most_frequent')"
      ]
     },
     "execution_count": 15,
     "metadata": {},
     "output_type": "execute_result"
    }
   ],
   "source": [
    "# función del modelo\n",
    "null_model = DummyClassifier(strategy = 'most_frequent', random_state = 123)\n",
    "\n",
    "# Entrenamiento del modelo con dataset TRAIN\n",
    "null_model.fit(X_train, Y_train) "
   ]
  },
  {
   "cell_type": "markdown",
   "metadata": {},
   "source": [
    "__Matriz de Confusión & Accuracy:__\n",
    "\n",
    "Primero definimos una función para crear la matriz de confusión, que nos será útil para el resto de modelos"
   ]
  },
  {
   "cell_type": "code",
   "execution_count": 16,
   "metadata": {},
   "outputs": [],
   "source": [
    "# Función de la matriz de confusion:\n",
    "\n",
    "def conf_matrix(Y_test, Y_pred): # va a comparar los resultados de las predicciones de la variable target vs la real del testset\n",
    "    cnf_matrix_tra = confusion_matrix(Y_test, Y_pred)\n",
    "    conf_plot = sns.heatmap(cnf_matrix_tra, annot=True, cmap='Blues', fmt='g')\n",
    "    bottom, top = conf_plot.get_ylim()\n",
    "    conf_plot.set_ylim(bottom + 0.5, top - 0.5)\n",
    "    conf_plot.set_title(\"Confusion matrix, without normalization\")\n",
    "    conf_plot.set_ylabel('True Label')\n",
    "    conf_plot.set_xlabel('Predicted Label');"
   ]
  },
  {
   "cell_type": "code",
   "execution_count": 17,
   "metadata": {},
   "outputs": [
    {
     "name": "stderr",
     "output_type": "stream",
     "text": [
      "C:\\Users\\Beatriz\\anaconda3\\lib\\site-packages\\sklearn\\metrics\\_classification.py:1221: UndefinedMetricWarning: Precision and F-score are ill-defined and being set to 0.0 in labels with no predicted samples. Use `zero_division` parameter to control this behavior.\n",
      "  _warn_prf(average, modifier, msg_start, len(result))\n"
     ]
    },
    {
     "name": "stdout",
     "output_type": "stream",
     "text": [
      "              precision    recall  f1-score   support\n",
      "\n",
      "         0.0       0.75      1.00      0.86     69140\n",
      "         1.0       0.00      0.00      0.00     23299\n",
      "\n",
      "    accuracy                           0.75     92439\n",
      "   macro avg       0.37      0.50      0.43     92439\n",
      "weighted avg       0.56      0.75      0.64     92439\n",
      "\n"
     ]
    },
    {
     "data": {
      "image/png": "[encoded data removed]",
      "text/plain": [
       "<Figure size 432x288 with 2 Axes>"
      ]
     },
     "metadata": {
      "needs_background": "light"
     },
     "output_type": "display_data"
    }
   ],
   "source": [
    "pred_null = null_model.predict(X_test)\n",
    "conf_matrix(Y_test, pred_null)\n",
    "print(classification_report(Y_test, pred_null))"
   ]
  },
  {
   "cell_type": "code",
   "execution_count": 18,
   "metadata": {},
   "outputs": [
    {
     "data": {
      "text/plain": [
       "0.7479527039453044"
      ]
     },
     "execution_count": 18,
     "metadata": {},
     "output_type": "execute_result"
    }
   ],
   "source": [
    "dummy_accuracy = null_model.score(X_test, Y_test)\n",
    "dummy_accuracy "
   ]
  },
  {
   "cell_type": "markdown",
   "metadata": {},
   "source": [
    "Observamos que la accuracy del modelo devuelve el mismo porcentaje que el de valores 1 de target. Esto es porque ha predecido correctamente todos estos valores, pero sin embargo a los valores 1 tammbién los ha predecido con 0."
   ]
  },
  {
   "cell_type": "markdown",
   "metadata": {},
   "source": [
    "### Curva ROC:\n",
    "\n",
    "Una curva ROC (curva de característica operativa del recepto) es un gráfico que muestra el rendimiento de un modelo de clasificación en todos los umbrales de clasificación. Esta curva representa dos parámetros:\n",
    " - Tasa de verdaderos positivos\n",
    " - Tasa de falsos positivos\n",
    " \n",
    "__El AUC__ proporciona una medición agregada del rendimiento en todos los umbrales de clasificación posibles. Una forma de interpretar el AUC es como la probabilidad de que el modelo clasifique un ejemplo positivo aleatorio más alto que un ejemplo negativo aleatorio."
   ]
  },
  {
   "cell_type": "code",
   "execution_count": 19,
   "metadata": {},
   "outputs": [
    {
     "data": {
      "image/png": "[encoded data removed]",
      "text/plain": [
       "<Figure size 432x288 with 1 Axes>"
      ]
     },
     "metadata": {
      "needs_background": "light"
     },
     "output_type": "display_data"
    },
    {
     "name": "stdout",
     "output_type": "stream",
     "text": [
      "Logistic Regression score train:  0.7142857142857143\n",
      "Logistic Regression score:  0.7479527039453044\n"
     ]
    }
   ],
   "source": [
    "metrics.plot_roc_curve(null_model, X_test, Y_test)                             # CURVA ROC\n",
    "plt.show()                     \n",
    "print(\"Logistic Regression score train: \", null_model.score(X_train, Y_train)) # score train\n",
    "print(\"Logistic Regression score: \", null_model.score(X_test, Y_test))         # score test"
   ]
  },
  {
   "cell_type": "markdown",
   "metadata": {},
   "source": [
    "Con esta curva roc observamos que la capacidad discriminatoria del modelo es arbitraria, ya que al asignar el valor de la variabe target más frecuente idistintamente la capacidad discriminatoria del modelo es del 50%."
   ]
  },
  {
   "cell_type": "markdown",
   "metadata": {},
   "source": [
    "### Gain Curve:\n",
    "Se utiliza para evaluar el rendimiento del modelo de clasificación. Miden como un modelo es capaz de mejorar una predicción aleatoria, es decir cómo es de útil el modelo para predecir valores. "
   ]
  },
  {
   "cell_type": "code",
   "execution_count": 20,
   "metadata": {},
   "outputs": [
    {
     "data": {
      "text/plain": [
       "<AxesSubplot:title={'center':'Cumulative Gains Curve'}, xlabel='Percentage of sample', ylabel='Gain'>"
      ]
     },
     "execution_count": 20,
     "metadata": {},
     "output_type": "execute_result"
    },
    {
     "data": {
      "image/png": "[encoded data removed]",
      "text/plain": [
       "<Figure size 432x288 with 1 Axes>"
      ]
     },
     "metadata": {
      "needs_background": "light"
     },
     "output_type": "display_data"
    }
   ],
   "source": [
    "import scikitplot as skplt\n",
    "# Deriving Class probabilities\n",
    "predicted_probabilities = null_model.predict_proba(X_test)\n",
    "# Creating the plot\n",
    "skplt.metrics.plot_cumulative_gain(Y_test, predicted_probabilities)"
   ]
  },
  {
   "cell_type": "markdown",
   "metadata": {},
   "source": [
    "__Guardamos el modelo entrenado para poder volver a utilizarlo más adelante y que ya esté entrenado:__"
   ]
  },
  {
   "cell_type": "code",
   "execution_count": 21,
   "metadata": {},
   "outputs": [],
   "source": [
    "def save_models(filename, model):\n",
    "    with open(filename, 'wb') as file:\n",
    "        pickle.dump(model, file)"
   ]
  },
  {
   "cell_type": "code",
   "execution_count": 22,
   "metadata": {},
   "outputs": [],
   "source": [
    "save_models('../data/04_models/null_model.pkl', null_model)"
   ]
  },
  {
   "cell_type": "markdown",
   "metadata": {},
   "source": [
    "### Referencias\n",
    "\n",
    "- https://towardsdatascience.com/hypothesis-testing-in-machine-learning-using-python-a0dc89e169ce\n",
    "- https://machinelearningmastery.com/naive-bayes-for-machine-learning/\n",
    "- https://machinelearningmastery.com/smote-oversampling-for-imbalanced-classification/\n",
    "- https://imbalanced-learn.readthedocs.io/en/stable/generated/imblearn.over_sampling.SMOTE.html\n",
    "- https://developers.google.com/machine-learning/crash-course/classification/roc-and-auc?hl=es-419\n",
    "\n",
    "\n"
   ]
  }
 ],
 "metadata": {
  "kernelspec": {
   "display_name": "Python (lending_club_env)",
   "language": "python",
   "name": "lending_club_env"
  },
  "language_info": {
   "codemirror_mode": {
    "name": "ipython",
    "version": 3
   },
   "file_extension": ".py",
   "mimetype": "text/x-python",
   "name": "python",
   "nbconvert_exporter": "python",
   "pygments_lexer": "ipython3",
   "version": "3.8.5"
  }
 },
 "nbformat": 4,
 "nbformat_minor": 4
}
